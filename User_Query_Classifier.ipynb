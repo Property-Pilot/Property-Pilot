{
 "cells": [
  {
   "cell_type": "markdown",
   "id": "04e5262d-f63d-42ff-abcc-c7ccfe2cc246",
   "metadata": {
    "tags": []
   },
   "source": [
    "# User_Query_Classifier"
   ]
  },
  {
   "cell_type": "markdown",
   "id": "d63e188e-0f1a-4149-9159-9bf7d29bb83b",
   "metadata": {
    "tags": []
   },
   "source": [
    "## 1. Model Setting - Gemini pro 1.0"
   ]
  },
  {
   "cell_type": "code",
   "execution_count": 1,
   "id": "e453cc87-ca5d-4907-a121-454951441cf3",
   "metadata": {},
   "outputs": [],
   "source": [
    "# %pip list | grep google-cloud-aiplatform\n",
    "# %pip list | grep google-api-core"
   ]
  },
  {
   "cell_type": "code",
   "execution_count": 2,
   "id": "9356612e-a512-4a97-ab07-92a06a7f04bf",
   "metadata": {},
   "outputs": [],
   "source": [
    "# %pip install google-cloud-aiplatform==1.43.0\n",
    "# %pip install google-api-core==2.17.1"
   ]
  },
  {
   "cell_type": "code",
   "execution_count": 3,
   "id": "09e7078b-9bef-427e-a1ae-9e0528a15f77",
   "metadata": {
    "tags": []
   },
   "outputs": [
    {
     "name": "stderr",
     "output_type": "stream",
     "text": [
      "2024-05-07 07:00:39.146008: I tensorflow/core/platform/cpu_feature_guard.cc:193] This TensorFlow binary is optimized with oneAPI Deep Neural Network Library (oneDNN) to use the following CPU instructions in performance-critical operations:  AVX2 FMA\n",
      "To enable them in other operations, rebuild TensorFlow with the appropriate compiler flags.\n",
      "2024-05-07 07:00:40.208281: W tensorflow/compiler/xla/stream_executor/platform/default/dso_loader.cc:64] Could not load dynamic library 'libnvinfer.so.7'; dlerror: libnvinfer.so.7: cannot open shared object file: No such file or directory; LD_LIBRARY_PATH: /usr/local/cuda/lib64:/usr/local/nccl2/lib:/usr/local/cuda/extras/CUPTI/lib64\n",
      "2024-05-07 07:00:40.208385: W tensorflow/compiler/xla/stream_executor/platform/default/dso_loader.cc:64] Could not load dynamic library 'libnvinfer_plugin.so.7'; dlerror: libnvinfer_plugin.so.7: cannot open shared object file: No such file or directory; LD_LIBRARY_PATH: /usr/local/cuda/lib64:/usr/local/nccl2/lib:/usr/local/cuda/extras/CUPTI/lib64\n",
      "2024-05-07 07:00:40.208396: W tensorflow/compiler/tf2tensorrt/utils/py_utils.cc:38] TF-TRT Warning: Cannot dlopen some TensorRT libraries. If you would like to use Nvidia GPU with TensorRT, please make sure the missing libraries mentioned above are installed properly.\n"
     ]
    }
   ],
   "source": [
    "import vertexai\n",
    "from vertexai.preview.generative_models import GenerativeModel, ChatSession, Part\n",
    "import vertexai.preview.generative_models as generative_models"
   ]
  },
  {
   "cell_type": "code",
   "execution_count": 4,
   "id": "280e74f1-21fe-46ed-bbbc-82aea16c9117",
   "metadata": {
    "tags": []
   },
   "outputs": [],
   "source": [
    "vertexai.init(project=\"adsp-capstone-property-pilot\", location=\"us-central1\")"
   ]
  },
  {
   "cell_type": "code",
   "execution_count": 5,
   "id": "1693b1ef-469d-4835-b4fb-f27ed6d7adb2",
   "metadata": {
    "tags": []
   },
   "outputs": [],
   "source": [
    "model = GenerativeModel(\"gemini-1.0-pro\")\n",
    "chat = model.start_chat()\n",
    "\n",
    "def get_chat_response(chat: ChatSession, prompt: str) -> str:\n",
    "    text_response = []\n",
    "    responses = chat.send_message(prompt, stream=True)\n",
    "    for chunk in responses:\n",
    "        text_response.append(chunk.text)\n",
    "    return \"\".join(text_response)"
   ]
  },
  {
   "cell_type": "markdown",
   "id": "096ead08-e996-4735-8856-912f7afc10dc",
   "metadata": {},
   "source": [
    "### Test"
   ]
  },
  {
   "cell_type": "code",
   "execution_count": 6,
   "id": "ba942672-c60b-46ca-9e69-f7bfcdc4af62",
   "metadata": {
    "tags": []
   },
   "outputs": [
    {
     "name": "stdout",
     "output_type": "stream",
     "text": [
      "Hi there. 👋 How can I help you today?\n"
     ]
    }
   ],
   "source": [
    "prompt = \"Hello.\"\n",
    "print(get_chat_response(chat, prompt))"
   ]
  },
  {
   "cell_type": "markdown",
   "id": "9219070b-b278-4bb9-a2e1-b7e47df6113c",
   "metadata": {
    "tags": []
   },
   "source": [
    "## 2. Create the function for user query classification"
   ]
  },
  {
   "cell_type": "code",
   "execution_count": 7,
   "id": "f6c90ebf-2e29-4f4d-b260-7c7a10aaddb1",
   "metadata": {
    "tags": []
   },
   "outputs": [],
   "source": [
    "def generate_prompt_classifier(instruction, user_query):\n",
    "    return instruction.replace(\"{USER_QUERY}\", user_query)"
   ]
  },
  {
   "cell_type": "code",
   "execution_count": 8,
   "id": "307520a9-ff17-44f7-8bb7-5bde2fef5c4e",
   "metadata": {
    "tags": []
   },
   "outputs": [],
   "source": [
    "instruction_classifier = \"\"\"\n",
    "### Instructions ###\n",
    "I want you to act as a sentence classifier. Based on \"User's query\" below, classify it into one of the categories listed, and respond with an integer from 0 to 2. \n",
    "Provide only the number as your answer. Do not include any other explanations in your response. Read the instructions below:\n",
    "\n",
    "- If the question is about searching for rentals or real estate: output \"1\".\n",
    "- If the question is about Chicago local information (e.g., neighborhoods, schools, restaurants, transportation): output \"2\".\n",
    "- For any other questions: output \"0\".\n",
    "\n",
    "\n",
    "Now, use the following query to determine the number.\n",
    "\n",
    "### Example query ###\n",
    "I want to buy a house in River North with at least two bedrooms.\n",
    "\n",
    "### Example Output ###\n",
    "1\n",
    "\n",
    "### Example query ###\n",
    "I am looking for a rental around Wicker Park in Chicago with a gym and a pool. It should be built within the last 10 years.\n",
    "\n",
    "### Example Output ###\n",
    "1\n",
    "\n",
    "\n",
    "### Example query ###\n",
    "What is the West Loop neighborhood in Chicago like?\n",
    "\n",
    "### Example Output ###\n",
    "2\n",
    "\n",
    "### Example query ###\n",
    "Could you recommend an Italian restaurant in Chicago?\n",
    "\n",
    "### Example Output ###\n",
    "2\n",
    "\n",
    "### Example query ###\n",
    "What is the nearest station to Lincoln Park?\n",
    "\n",
    "### Example Output ###\n",
    "2\n",
    "\n",
    "\n",
    "### Example query ###\n",
    "When was Llama 3 announced?\n",
    "\n",
    "### Example Output ###\n",
    "0\n",
    "\n",
    "### Example query ###\n",
    "How is Amazon's stock price doing?\n",
    "\n",
    "### Example Output ###\n",
    "0\n",
    "\n",
    "\n",
    "### User’s query ###\n",
    "{USER_QUERY}\n",
    "\n",
    "### Output ###\n",
    "\"\"\""
   ]
  },
  {
   "cell_type": "code",
   "execution_count": 9,
   "id": "95a85ea4-e208-4ac8-930d-eb8df0d2d3a6",
   "metadata": {
    "scrolled": true,
    "tags": []
   },
   "outputs": [
    {
     "name": "stdout",
     "output_type": "stream",
     "text": [
      "\n",
      "### Instructions ###\n",
      "I want you to act as a sentence classifier. Based on \"User's query\" below, classify it into one of the categories listed, and respond with an integer from 0 to 2. \n",
      "Provide only the number as your answer. Do not include any other explanations in your response. Read the instructions below:\n",
      "\n",
      "- If the question is about searching for rentals or real estate: output \"1\".\n",
      "- If the question is about Chicago local information (e.g., neighborhoods, schools, restaurants, transportation): output \"2\".\n",
      "- For any other questions: output \"0\".\n",
      "\n",
      "\n",
      "Now, use the following query to determine the number.\n",
      "\n",
      "### Example query ###\n",
      "I want to buy a house in River North with at least two bedrooms.\n",
      "\n",
      "### Example Output ###\n",
      "1\n",
      "\n",
      "### Example query ###\n",
      "I am looking for a rental around Wicker Park in Chicago with a gym and a pool. It should be built within the last 10 years.\n",
      "\n",
      "### Example Output ###\n",
      "1\n",
      "\n",
      "\n",
      "### Example query ###\n",
      "What is the West Loop neighborhood in Chicago like?\n",
      "\n",
      "### Example Output ###\n",
      "2\n",
      "\n",
      "### Example query ###\n",
      "Could you recommend an Italian restaurant in Chicago?\n",
      "\n",
      "### Example Output ###\n",
      "2\n",
      "\n",
      "### Example query ###\n",
      "What is the nearest station to Lincoln Park?\n",
      "\n",
      "### Example Output ###\n",
      "2\n",
      "\n",
      "\n",
      "### Example query ###\n",
      "When was Llama 3 announced?\n",
      "\n",
      "### Example Output ###\n",
      "0\n",
      "\n",
      "### Example query ###\n",
      "How is Amazon's stock price doing?\n",
      "\n",
      "### Example Output ###\n",
      "0\n",
      "\n",
      "\n",
      "### User’s query ###\n",
      "I am looking for a two-bedroom.\n",
      "\n",
      "### Output ###\n",
      "\n"
     ]
    }
   ],
   "source": [
    "user_query = \"I am looking for a two-bedroom.\"\n",
    "print(generate_prompt_classifier(instruction_classifier, user_query))"
   ]
  },
  {
   "cell_type": "markdown",
   "id": "ee9ef9f4-bc65-4980-89aa-7dad0dad4bb9",
   "metadata": {},
   "source": [
    "### Test"
   ]
  },
  {
   "cell_type": "code",
   "execution_count": 11,
   "id": "bbc789aa-8430-4ef1-8b97-b98a12d4701a",
   "metadata": {
    "tags": []
   },
   "outputs": [
    {
     "name": "stdout",
     "output_type": "stream",
     "text": [
      "1\n"
     ]
    }
   ],
   "source": [
    "user_query = \"I am looking for a two-bedroom.\"\n",
    "prompt = generate_prompt_classifier(instruction_classifier, user_query)\n",
    "print(get_chat_response(chat, prompt))"
   ]
  },
  {
   "cell_type": "code",
   "execution_count": 12,
   "id": "4d581d11-4ec8-447d-9e23-68e88ec8e7f3",
   "metadata": {
    "tags": []
   },
   "outputs": [
    {
     "name": "stdout",
     "output_type": "stream",
     "text": [
      "1\n"
     ]
    }
   ],
   "source": [
    "user_query = \"Are there any pet-friendly condos available for sale right now?\"\n",
    "prompt = generate_prompt_classifier(instruction_classifier, user_query)\n",
    "print(get_chat_response(chat, prompt))"
   ]
  },
  {
   "cell_type": "code",
   "execution_count": 13,
   "id": "1f478145-be82-45c7-ac92-550149b902a3",
   "metadata": {
    "tags": []
   },
   "outputs": [
    {
     "name": "stdout",
     "output_type": "stream",
     "text": [
      "2\n"
     ]
    }
   ],
   "source": [
    "user_query = \"What are the top-rated elementary schools in Chicago's Lakeview neighborhood?\"\n",
    "prompt = generate_prompt_classifier(instruction_classifier, user_query)\n",
    "print(get_chat_response(chat, prompt))"
   ]
  },
  {
   "cell_type": "code",
   "execution_count": 14,
   "id": "e43e4cc9-905b-4990-87e0-1321d509f665",
   "metadata": {
    "tags": []
   },
   "outputs": [
    {
     "name": "stdout",
     "output_type": "stream",
     "text": [
      "2\n"
     ]
    }
   ],
   "source": [
    "user_query = \"Can you recommend a good sushi restaurant near Millennium Park in Chicago?\"\n",
    "prompt = generate_prompt_classifier(instruction_classifier, user_query)\n",
    "print(get_chat_response(chat, prompt))"
   ]
  },
  {
   "cell_type": "code",
   "execution_count": 15,
   "id": "2da5b70e-61bf-44cf-8f4b-35b9382af2d9",
   "metadata": {
    "tags": []
   },
   "outputs": [
    {
     "name": "stdout",
     "output_type": "stream",
     "text": [
      "2\n"
     ]
    }
   ],
   "source": [
    "user_query = \"What is the nearest station from The Loop?\"\n",
    "prompt = generate_prompt_classifier(instruction_classifier, user_query)\n",
    "print(get_chat_response(chat, prompt))"
   ]
  },
  {
   "cell_type": "code",
   "execution_count": 16,
   "id": "cd3f1a26-4f45-4f82-b2fc-6c7bfe93e721",
   "metadata": {
    "tags": []
   },
   "outputs": [
    {
     "name": "stdout",
     "output_type": "stream",
     "text": [
      "0\n"
     ]
    }
   ],
   "source": [
    "user_query = \"Can you explain how a blockchain transaction works?\"\n",
    "prompt = generate_prompt_classifier(instruction_classifier, user_query)\n",
    "print(get_chat_response(chat, prompt))"
   ]
  },
  {
   "cell_type": "code",
   "execution_count": 17,
   "id": "28297adc-0e0e-4046-987a-e0ee6a39058a",
   "metadata": {
    "tags": []
   },
   "outputs": [
    {
     "name": "stdout",
     "output_type": "stream",
     "text": [
      "0\n"
     ]
    }
   ],
   "source": [
    "user_query = \"Hello!\"\n",
    "prompt = generate_prompt_classifier(instruction_classifier, user_query)\n",
    "print(get_chat_response(chat, prompt))"
   ]
  }
 ],
 "metadata": {
  "environment": {
   "kernel": "python3",
   "name": "tf2-cpu.2-11.m119",
   "type": "gcloud",
   "uri": "us-docker.pkg.dev/deeplearning-platform-release/gcr.io/tf2-cpu.2-11:m119"
  },
  "kernelspec": {
   "display_name": "Python 3",
   "language": "python",
   "name": "python3"
  },
  "language_info": {
   "codemirror_mode": {
    "name": "ipython",
    "version": 3
   },
   "file_extension": ".py",
   "mimetype": "text/x-python",
   "name": "python",
   "nbconvert_exporter": "python",
   "pygments_lexer": "ipython3",
   "version": "3.10.14"
  }
 },
 "nbformat": 4,
 "nbformat_minor": 5
}
