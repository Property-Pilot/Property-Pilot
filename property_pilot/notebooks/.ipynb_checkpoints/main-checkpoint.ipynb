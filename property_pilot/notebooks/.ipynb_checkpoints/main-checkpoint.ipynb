{
 "cells": [
  {
   "cell_type": "markdown",
   "id": "48a9178c-6fe5-45a1-9831-fd9f73f92ef2",
   "metadata": {},
   "source": [
    "## GCP"
   ]
  },
  {
   "cell_type": "code",
   "execution_count": 4,
   "id": "9710e9f0-a356-4a23-a12f-d8e9dc85eed2",
   "metadata": {
    "tags": []
   },
   "outputs": [],
   "source": [
    "# %pip list | grep google-cloud-aiplatform\n",
    "# %pip list | grep google-api-core\n",
    "# %pip install google-cloud-aiplatform==1.43.0\n",
    "# %pip install google-api-core==2.17.1"
   ]
  },
  {
   "cell_type": "code",
   "execution_count": 5,
   "id": "a770dd00-8cbb-4a86-aad7-733b46c385b4",
   "metadata": {
    "tags": []
   },
   "outputs": [
    {
     "name": "stderr",
     "output_type": "stream",
     "text": [
      "2024-05-13 04:02:56.399988: I tensorflow/core/platform/cpu_feature_guard.cc:193] This TensorFlow binary is optimized with oneAPI Deep Neural Network Library (oneDNN) to use the following CPU instructions in performance-critical operations:  AVX2 FMA\n",
      "To enable them in other operations, rebuild TensorFlow with the appropriate compiler flags.\n",
      "2024-05-13 04:02:57.480455: W tensorflow/compiler/xla/stream_executor/platform/default/dso_loader.cc:64] Could not load dynamic library 'libnvinfer.so.7'; dlerror: libnvinfer.so.7: cannot open shared object file: No such file or directory; LD_LIBRARY_PATH: /usr/local/cuda/lib64:/usr/local/nccl2/lib:/usr/local/cuda/extras/CUPTI/lib64\n",
      "2024-05-13 04:02:57.480577: W tensorflow/compiler/xla/stream_executor/platform/default/dso_loader.cc:64] Could not load dynamic library 'libnvinfer_plugin.so.7'; dlerror: libnvinfer_plugin.so.7: cannot open shared object file: No such file or directory; LD_LIBRARY_PATH: /usr/local/cuda/lib64:/usr/local/nccl2/lib:/usr/local/cuda/extras/CUPTI/lib64\n",
      "2024-05-13 04:02:57.480588: W tensorflow/compiler/tf2tensorrt/utils/py_utils.cc:38] TF-TRT Warning: Cannot dlopen some TensorRT libraries. If you would like to use Nvidia GPU with TensorRT, please make sure the missing libraries mentioned above are installed properly.\n"
     ]
    }
   ],
   "source": [
    "import vertexai\n",
    "from vertexai.preview.generative_models import GenerativeModel, ChatSession, Part\n",
    "import vertexai.preview.generative_models as generative_models"
   ]
  },
  {
   "cell_type": "code",
   "execution_count": 6,
   "id": "c84ee517-5e5f-41bc-a950-8b8fc129c157",
   "metadata": {
    "tags": []
   },
   "outputs": [],
   "source": [
    "vertexai.init(project=\"adsp-capstone-property-pilot\", location=\"us-central1\")"
   ]
  },
  {
   "cell_type": "markdown",
   "id": "00e2b94d-e252-4f73-bde1-ed610ffd637e",
   "metadata": {},
   "source": [
    "## Model Setting - Gemini pro 1.0"
   ]
  },
  {
   "cell_type": "code",
   "execution_count": 18,
   "id": "9b946d2c-abe5-4358-b2ab-8e633c5a196f",
   "metadata": {
    "tags": []
   },
   "outputs": [],
   "source": [
    "model = GenerativeModel(\"gemini-1.0-pro\")\n",
    "chat = model.start_chat()\n",
    "\n",
    "def get_chat_response(chat: ChatSession, prompt: str) -> str:\n",
    "    text_response = []\n",
    "    responses = chat.send_message(prompt, stream=True)\n",
    "    for chunk in responses:\n",
    "        text_response.append(chunk.text)\n",
    "    return \"\".join(text_response)"
   ]
  },
  {
   "cell_type": "code",
   "execution_count": 19,
   "id": "930c88de-f6c1-44cc-95dc-95751da3c988",
   "metadata": {
    "tags": []
   },
   "outputs": [
    {
     "name": "stdout",
     "output_type": "stream",
     "text": [
      "Hello! 👋 I'm happy to help with anything you need today. What can I do for you?\n"
     ]
    }
   ],
   "source": [
    "# Test chat\n",
    "prompt = \"Hello.\"\n",
    "print(get_chat_response(chat, prompt))"
   ]
  },
  {
   "cell_type": "markdown",
   "id": "e05da746-63b8-422c-8b41-92aa5794f4b6",
   "metadata": {},
   "source": [
    "## Settings"
   ]
  },
  {
   "cell_type": "code",
   "execution_count": 9,
   "id": "0f8a53bf-afd7-4664-b790-9f217c127cdb",
   "metadata": {
    "tags": []
   },
   "outputs": [],
   "source": [
    "import requests\n",
    "\n",
    "url = \"https://zillow-com1.p.rapidapi.com/propertyExtendedSearch\"\n",
    "\n",
    "headers = {\n",
    "\t\"X-RapidAPI-Key\": \"RAPID_API_KEY\",\n",
    "\t\"X-RapidAPI-Host\": \"zillow-com1.p.rapidapi.com\"\n",
    "}"
   ]
  },
  {
   "cell_type": "markdown",
   "id": "decc3b96-08a1-4b1e-951f-26112a0d51c0",
   "metadata": {},
   "source": [
    "## Import functions"
   ]
  },
  {
   "cell_type": "code",
   "execution_count": 10,
   "id": "b708cf99-4d06-4832-83ff-c8e5cb89b02c",
   "metadata": {
    "tags": []
   },
   "outputs": [],
   "source": [
    "import os\n",
    "os.chdir('/home/jupyter/property_pilot/scripts')\n",
    "\n",
    "import generate_api_filter\n",
    "import fetch_property_info\n",
    "import chat_response"
   ]
  },
  {
   "cell_type": "markdown",
   "id": "6595ead2-9b0d-458b-955c-2226cbe82d4b",
   "metadata": {},
   "source": [
    "## Import prompts"
   ]
  },
  {
   "cell_type": "code",
   "execution_count": 11,
   "id": "00fcf226-9b29-4381-880e-4a6192caeb14",
   "metadata": {
    "tags": []
   },
   "outputs": [],
   "source": [
    "os.chdir('/home/jupyter/property_pilot/prompts')\n",
    "\n",
    "# prompt_classifier\n",
    "file_path = 'instruction_classifier.txt'\n",
    "try:\n",
    "    with open(file_path, 'r') as file:\n",
    "        instruction_prompt_classifier = file.read()\n",
    "except FileNotFoundError:\n",
    "    print(\"The file does not exist\")\n",
    "except Exception as e:\n",
    "    print(f\"An error occurred: {e}\") \n",
    "    \n",
    "# prompt_apifilter\n",
    "file_path = 'generate_prompt_apifilter.txt'\n",
    "try:\n",
    "    with open(file_path, 'r') as file:\n",
    "        instruction_prompt_apifilter = file.read()\n",
    "except FileNotFoundError:\n",
    "    print(\"The file does not exist\")\n",
    "except Exception as e:\n",
    "    print(f\"An error occurred: {e}\")\n",
    "    \n",
    "# prompt_property(for final output)\n",
    "file_path = 'generate_prompt_property.txt'\n",
    "try:\n",
    "    with open(file_path, 'r') as file:\n",
    "        instruction_prompt_property = file.read()\n",
    "except FileNotFoundError:\n",
    "    print(\"The file does not exist\")\n",
    "except Exception as e:\n",
    "    print(f\"An error occurred: {e}\")\n"
   ]
  },
  {
   "cell_type": "markdown",
   "id": "8a98d56a-16e9-4440-a3b6-2a7b85e734d8",
   "metadata": {},
   "source": [
    "## Property Plot main function"
   ]
  },
  {
   "cell_type": "code",
   "execution_count": 12,
   "id": "3c824c7e-65e2-470e-9cc9-d2d83326f767",
   "metadata": {
    "tags": []
   },
   "outputs": [],
   "source": [
    "def pp_chatbot(user_query):\n",
    "    \n",
    "    # User's quety classify\n",
    "    prompt_classifier = generate_prompt_classifier(instruction_prompt_classifier, user_query)\n",
    "    response_int = int(get_chat_response(chat, prompt_classifier))\n",
    "    \n",
    "    # if the user is looking for a property     \n",
    "    if response_int == 1:\n",
    "\n",
    "        # get prompt for api filter \n",
    "        prompt_apifilter = generate_prompt_apifilter(instruction_prompt_apifilter, user_query)\n",
    "\n",
    "        # get api filter\n",
    "        apifilter = get_chat_response(chat, prompt_apifilter)\n",
    "        apifilter = extract_json_to_dict(apifilter)\n",
    "\n",
    "        # get listings from zillow\n",
    "        response = requests.get(url, headers = headers, params = apifilter)\n",
    "\n",
    "        # get top 3 listings(sorted by newest)\n",
    "        # Define fields to extract\n",
    "        fields = [\"propertyType\", \"address\", \"price\", \"bedrooms\", \"bathrooms\", \"detailUrl\", \"imgSrc\", \"longitude\", \"latitude\"]\n",
    "        top_properties = extract_properties(response, 3, fields)\n",
    "\n",
    "        # get description of the properties\n",
    "        top_properties = fetch_descriptions(top_properties)\n",
    "\n",
    "        # get resoFacts(detail) of the properties\n",
    "        keys_to_fetch_resoFacts = [\n",
    "            'hasGarage', 'hasPetsAllowed', 'heating', 'cooling', 'flooring', 'appliances',\n",
    "            'laundryFeatures', 'associationFee',\n",
    "            'livingArea', 'taxAnnualAmount', 'parkingFeatures', 'stories'\n",
    "        ]\n",
    "        top_properties = fetch_resoFacts(top_properties, headers, keys_to_fetch_resoFacts)\n",
    "\n",
    "        # get school info of the properties\n",
    "        top_properties = fetch_schools(top_properties, headers)\n",
    "\n",
    "        # change format\n",
    "        fields_desc = fields + ['description', 'resoFacts', 'schools']\n",
    "        property_info = format_properties(top_properties, fields_desc)\n",
    "\n",
    "        # prompt for final output from Gemini\n",
    "        prompt_final = generate_prompt_property(instruction_prompt_property, user_query, property_info, str(fields))\n",
    "\n",
    "        # get final response from Gemini\n",
    "        print(get_chat_response(chat, prompt_final))\n",
    "        # display(property_restaurant_map)\n",
    "\n",
    "    else:\n",
    "        # print('The user is not looking for a property')\n",
    "        # General reaponse from Gemini for now\n",
    "        print(get_chat_response(chat, user_query))"
   ]
  },
  {
   "cell_type": "markdown",
   "id": "69dfea28-8b34-4c08-8acd-44e999f77b81",
   "metadata": {},
   "source": [
    "## Use case 1\n",
    "### property search - detail info"
   ]
  },
  {
   "cell_type": "code",
   "execution_count": 13,
   "id": "43b37ab5-4b6b-453f-bdc1-702d08a3c85c",
   "metadata": {
    "tags": []
   },
   "outputs": [
    {
     "name": "stdout",
     "output_type": "stream",
     "text": [
      "Ok, here are some two-bedroom options in Chicago that I think you might like:\n",
      "\n",
      "**1. Condo in the Gold Coast:**\n",
      "\n",
      "- Address: 40 E Delaware Pl APT 1303, Chicago, IL 60611\n",
      "- Price: 315000\n",
      "- Bedrooms: 2\n",
      "- Bathrooms: 2\n",
      "- Amenities: Fitness room, deck for grilling, storage included\n",
      "- Description: Large living space with separate dining area. Huge master bedroom with walk in closet. In unit washer/dryer. This unit is in need of a total renovation. Sold \"as is\".\n",
      "- More details: [link to property details](https://www.zillow.com/homedetails/40-E-Delaware-Pl-APT-1303-Chicago-IL-60611/3848902_zpid/)\n",
      "\n",
      "**2. Single-family home in Avondale:**\n",
      "\n",
      "- Address: 7421 W Belmont Ave, Chicago, IL 60634\n",
      "- Price: 315000\n",
      "- Bedrooms: 2\n",
      "- Bathrooms: 2\n",
      "- Amenities: 2 car garage, nice yard\n",
      "- Description: Lovely brick ranch home with great curb appeal. Hardwood floors in living room & bedrooms, brand new kitchen floors and basement floors as well as new carpet leading to basement. Roof, A/C, water heater all under 5 years old with furnace regularly maintained.\n",
      "- More details: [link to property details](https://www.zillow.com/homedetails/7421-W-Belmont-Ave-Chicago-IL-60634/3601403_zpid/)\n",
      "\n",
      "**3. Condo in Lakeview:**\n",
      "\n",
      "- Address: 1352 W George St APT 2, Chicago, IL 60657\n",
      "- Price: 549900\n",
      "- Bedrooms: 2\n",
      "- Bathrooms: 2\n",
      "- Amenities: Fireplace, private deck, garage parking\n",
      "- Description: Meticulously maintained 2bed/2ba condo in an all brick building located in the heart of Lakeview. Unit features hardwood flooring in the kitchen/dining, hallway, and bedrooms. Granite and s/s appliances in kitchen with a large breakfast bar and fireplace that leads out to private deck. \n",
      "- More details: [link to property details](https://www.zillow.com/homedetails/1352-W-George-St-APT-2-Chicago-IL-60657/62010799_zpid/)\n",
      "\n",
      "Please note that these are just a few suggestions, and there are many other great two-bedroom options available in Chicago. If you have any specific questions about these properties, or if you'd like me to recommend other properties that better fit your needs, please let me know.\n",
      "\n",
      "Is there anything specific you'd like to know about these properties, such as the schools in the area or the property taxes?\n",
      "\n"
     ]
    }
   ],
   "source": [
    "user_query = \"I am looking for a two-bedroom in Chicago.\"\n",
    "pp_chatbot(user_query)"
   ]
  },
  {
   "cell_type": "code",
   "execution_count": 14,
   "id": "3e14c22c-34d5-4e53-ac7b-c4a103b4ccbb",
   "metadata": {
    "tags": []
   },
   "outputs": [
    {
     "name": "stdout",
     "output_type": "stream",
     "text": [
      "## Public Transportation Proximity for Each Property:\n",
      "\n",
      "**Property 1 - 40 E Delaware Pl APT 1303, Chicago, IL 60611:**\n",
      "\n",
      "- **Closest public transportation:** Chicago Red Line (accessible via the Clark/Division station, approximately 0.3 miles away). \n",
      "- **Other options:** Buses #152 (Addison), #156 (LaSalle), and #157 (Streeterville/Magnificent Mile) are all within walking distance. \n",
      "\n",
      "**Property 2 - 7421 W Belmont Ave, Chicago, IL 60634:**\n",
      "\n",
      "- **Closest public transportation:** Chicago Blue Line (accessible via the Logan Square station, approximately 0.4 miles away). \n",
      "- **Other options:** Buses #56 (Milwaukee), #76 (Diversey), and #94 (California) are all within walking distance. \n",
      "\n",
      "**Property 3 - 1352 W George St APT 2, Chicago, IL 60657:**\n",
      "\n",
      "- **Closest public transportation:** Chicago Red, Brown, and Purple Lines (accessible via the Wellington station, approximately 0.3 miles away). \n",
      "- **Other options:** Buses #151 (Sheridan), #155 (Devon), and #156 (LaSalle) are all within walking distance. \n",
      "\n"
     ]
    }
   ],
   "source": [
    "user_query = \"Are these properties close to public transportation facilities?\"\n",
    "pp_chatbot(user_query)"
   ]
  },
  {
   "cell_type": "markdown",
   "id": "62e59465-5c62-4936-b8d1-e31a6f1fd4c7",
   "metadata": {},
   "source": [
    "## Use case 2\n",
    "### Initial query: Neighborhood info"
   ]
  },
  {
   "cell_type": "markdown",
   "id": "1eeb2c68-a95c-401a-9dbc-274bc3fefc93",
   "metadata": {},
   "source": [
    "RAG"
   ]
  },
  {
   "cell_type": "markdown",
   "id": "94e13033-67be-4976-a56a-13cc163df691",
   "metadata": {},
   "source": [
    "## Use case 3\n",
    "### Initial query: Restaurant info"
   ]
  },
  {
   "cell_type": "markdown",
   "id": "96144106-d0ff-41a4-a86f-b301c942fdf2",
   "metadata": {},
   "source": [
    "Yelp API"
   ]
  }
 ],
 "metadata": {
  "environment": {
   "kernel": "python3",
   "name": "tf2-cpu.2-11.m119",
   "type": "gcloud",
   "uri": "us-docker.pkg.dev/deeplearning-platform-release/gcr.io/tf2-cpu.2-11:m119"
  },
  "kernelspec": {
   "display_name": "Python 3",
   "language": "python",
   "name": "python3"
  },
  "language_info": {
   "codemirror_mode": {
    "name": "ipython",
    "version": 3
   },
   "file_extension": ".py",
   "mimetype": "text/x-python",
   "name": "python",
   "nbconvert_exporter": "python",
   "pygments_lexer": "ipython3",
   "version": "3.10.14"
  }
 },
 "nbformat": 4,
 "nbformat_minor": 5
}
