{
 "cells": [
  {
   "cell_type": "markdown",
   "id": "48a9178c-6fe5-45a1-9831-fd9f73f92ef2",
   "metadata": {},
   "source": [
    "## GCP"
   ]
  },
  {
   "cell_type": "code",
   "execution_count": 1,
   "id": "9710e9f0-a356-4a23-a12f-d8e9dc85eed2",
   "metadata": {
    "tags": []
   },
   "outputs": [],
   "source": [
    "# %pip list | grep google-cloud-aiplatform\n",
    "# %pip list | grep google-api-core\n",
    "# %pip install google-cloud-aiplatform==1.43.0\n",
    "# %pip install google-api-core==2.17.1"
   ]
  },
  {
   "cell_type": "code",
   "execution_count": 19,
   "id": "a770dd00-8cbb-4a86-aad7-733b46c385b4",
   "metadata": {
    "tags": []
   },
   "outputs": [],
   "source": [
    "import vertexai\n",
    "from vertexai.preview.generative_models import GenerativeModel, ChatSession, Part\n",
    "import vertexai.preview.generative_models as generative_models\n",
    "\n",
    "import geopandas as gpd\n",
    "from shapely.geometry import Point"
   ]
  },
  {
   "cell_type": "code",
   "execution_count": 20,
   "id": "c84ee517-5e5f-41bc-a950-8b8fc129c157",
   "metadata": {
    "tags": []
   },
   "outputs": [],
   "source": [
    "vertexai.init(project = \"adsp-capstone-property-pilot\", location = \"us-central1\")"
   ]
  },
  {
   "cell_type": "markdown",
   "id": "00e2b94d-e252-4f73-bde1-ed610ffd637e",
   "metadata": {},
   "source": [
    "## Model Setting - Gemini pro 1.0"
   ]
  },
  {
   "cell_type": "code",
   "execution_count": 21,
   "id": "9b946d2c-abe5-4358-b2ab-8e633c5a196f",
   "metadata": {
    "tags": []
   },
   "outputs": [],
   "source": [
    "model = GenerativeModel(\"gemini-1.0-pro\")\n",
    "chat = model.start_chat()\n",
    "\n",
    "def get_chat_response(chat: ChatSession, prompt: str) -> str:\n",
    "    text_response = []\n",
    "    responses = chat.send_message(prompt, stream=True)\n",
    "    for chunk in responses:\n",
    "        text_response.append(chunk.text)\n",
    "    return \"\".join(text_response)"
   ]
  },
  {
   "cell_type": "code",
   "execution_count": 22,
   "id": "930c88de-f6c1-44cc-95dc-95751da3c988",
   "metadata": {
    "tags": []
   },
   "outputs": [
    {
     "name": "stdout",
     "output_type": "stream",
     "text": [
      "Hello! 👋 I'm glad you're here. How can I help you today?\n"
     ]
    }
   ],
   "source": [
    "# Test chat\n",
    "prompt = \"Hello.\"\n",
    "print(get_chat_response(chat, prompt))"
   ]
  },
  {
   "cell_type": "markdown",
   "id": "e05da746-63b8-422c-8b41-92aa5794f4b6",
   "metadata": {},
   "source": [
    "## Settings"
   ]
  },
  {
   "cell_type": "code",
   "execution_count": 23,
   "id": "0f8a53bf-afd7-4664-b790-9f217c127cdb",
   "metadata": {
    "tags": []
   },
   "outputs": [],
   "source": [
    "import requests\n",
    "\n",
    "url = \"https://zillow-com1.p.rapidapi.com/propertyExtendedSearch\"\n",
    "\n",
    "headers = {\n",
    "\t\"X-RapidAPI-Key\": \"YOUR_API_KEY\",\n",
    "\t\"X-RapidAPI-Host\": \"zillow-com1.p.rapidapi.com\"\n",
    "}"
   ]
  },
  {
   "cell_type": "markdown",
   "id": "decc3b96-08a1-4b1e-951f-26112a0d51c0",
   "metadata": {},
   "source": [
    "## Import functions"
   ]
  },
  {
   "cell_type": "code",
   "execution_count": 24,
   "id": "b708cf99-4d06-4832-83ff-c8e5cb89b02c",
   "metadata": {
    "tags": []
   },
   "outputs": [],
   "source": [
    "import os\n",
    "# os.chdir('/home/jupyter/property_pilot/scripts')\n",
    "\n",
    "# import generate_api_filter\n",
    "# import fetch_property_info\n",
    "# import chat_response"
   ]
  },
  {
   "cell_type": "code",
   "execution_count": 25,
   "id": "af3c30d3-54a2-410f-a98c-43efb0cd5f65",
   "metadata": {
    "tags": []
   },
   "outputs": [],
   "source": [
    "%run /home/jupyter/property_pilot/scripts/chat_response.py"
   ]
  },
  {
   "cell_type": "code",
   "execution_count": 26,
   "id": "63433427-02c9-4b9c-ac9a-e4f24d1d174e",
   "metadata": {
    "tags": []
   },
   "outputs": [],
   "source": [
    "%run /home/jupyter/property_pilot/scripts/generate_api_filter.py"
   ]
  },
  {
   "cell_type": "code",
   "execution_count": 27,
   "id": "f90e34c0-01dd-4ac5-af20-fb4dc9611825",
   "metadata": {
    "tags": []
   },
   "outputs": [],
   "source": [
    "%run /home/jupyter/property_pilot/scripts/fetch_property_info.py"
   ]
  },
  {
   "cell_type": "markdown",
   "id": "6595ead2-9b0d-458b-955c-2226cbe82d4b",
   "metadata": {},
   "source": [
    "## Import prompts"
   ]
  },
  {
   "cell_type": "code",
   "execution_count": 28,
   "id": "00fcf226-9b29-4381-880e-4a6192caeb14",
   "metadata": {
    "tags": []
   },
   "outputs": [],
   "source": [
    "os.chdir('/home/jupyter/property_pilot/prompts')\n",
    "\n",
    "# prompt_classifier\n",
    "file_path = 'instruction_classifier.txt'\n",
    "try:\n",
    "    with open(file_path, 'r') as file:\n",
    "        instruction_prompt_classifier = file.read()\n",
    "except FileNotFoundError:\n",
    "    print(\"The file does not exist\")\n",
    "except Exception as e:\n",
    "    print(f\"An error occurred: {e}\") \n",
    "    \n",
    "# prompt_apifilter\n",
    "file_path = 'generate_prompt_apifilter.txt'\n",
    "try:\n",
    "    with open(file_path, 'r') as file:\n",
    "        instruction_prompt_apifilter = file.read()\n",
    "except FileNotFoundError:\n",
    "    print(\"The file does not exist\")\n",
    "except Exception as e:\n",
    "    print(f\"An error occurred: {e}\")\n",
    "    \n",
    "# prompt_property(for final output)\n",
    "file_path = 'generate_prompt_property.txt'\n",
    "try:\n",
    "    with open(file_path, 'r') as file:\n",
    "        instruction_prompt_property = file.read()\n",
    "except FileNotFoundError:\n",
    "    print(\"The file does not exist\")\n",
    "except Exception as e:\n",
    "    print(f\"An error occurred: {e}\")\n"
   ]
  },
  {
   "cell_type": "markdown",
   "id": "8a98d56a-16e9-4440-a3b6-2a7b85e734d8",
   "metadata": {},
   "source": [
    "## Property Plot main function"
   ]
  },
  {
   "cell_type": "code",
   "execution_count": 30,
   "id": "3c824c7e-65e2-470e-9cc9-d2d83326f767",
   "metadata": {
    "tags": []
   },
   "outputs": [],
   "source": [
    "def pp_chatbot(user_query):\n",
    "    \n",
    "    # User's quety classify\n",
    "    prompt_classifier = generate_prompt_classifier(instruction_prompt_classifier, user_query)\n",
    "    response_int = int(get_chat_response(chat, prompt_classifier))\n",
    "    \n",
    "    # if the user is looking for a property     \n",
    "    if response_int == 1:\n",
    "\n",
    "        # get prompt for api filter \n",
    "        prompt_apifilter = generate_prompt_apifilter(instruction_prompt_apifilter, user_query)\n",
    "\n",
    "        # get api filter\n",
    "        apifilter = get_chat_response(chat, prompt_apifilter)\n",
    "        apifilter = extract_json_to_dict(apifilter)\n",
    "\n",
    "        # get listings from zillow\n",
    "        response = requests.get(url, headers = headers, params = apifilter)\n",
    "\n",
    "        # get top 3 listings(sorted by newest)\n",
    "        # Define fields to extract\n",
    "        fields = [\"propertyType\", \"address\", \"price\", \"bedrooms\", \"bathrooms\", \"detailUrl\", \"imgSrc\", \"longitude\", \"latitude\"]\n",
    "        top_properties = extract_properties(response, 3, fields)\n",
    "\n",
    "        # get description of the properties\n",
    "        top_properties = fetch_descriptions(top_properties)\n",
    "\n",
    "        # get resoFacts(detail) of the properties\n",
    "        keys_to_fetch_resoFacts = [\n",
    "            'hasGarage', 'hasPetsAllowed', 'heating', 'cooling', 'flooring', 'appliances',\n",
    "            'laundryFeatures', 'associationFee',\n",
    "            'livingArea', 'taxAnnualAmount', 'parkingFeatures', 'stories'\n",
    "        ]\n",
    "        top_properties = fetch_resoFacts(top_properties, headers, keys_to_fetch_resoFacts)\n",
    "\n",
    "        # get school info of the properties\n",
    "        top_properties = fetch_schools(top_properties, headers)\n",
    "\n",
    "        # neighborhood boundaries shapefile\n",
    "        neighborhood_boundaries_path = '/home/jupyter/Kshitiz_Working/geo_export_825d7df4-a9cd-4cef-b3d7-2ec1adc30204.shp'\n",
    "        # neighborhood description file\n",
    "        neighborhood_info_path = '/home/jupyter/Kshitiz_Working/neighborhood_info_final.csv'\n",
    "\n",
    "        # load the neighborhood boundaries and description file\n",
    "        neighborhoods = load_neighborhood_boundaries(neighborhood_boundaries_path)\n",
    "        neighborhoods_info = load_neighborhood_info(neighborhood_info_path)\n",
    "\n",
    "        # get neighborhood details of the properties\n",
    "        top_properties = fetch_neighborhood(top_properties, neighborhoods)\n",
    "        top_properties = fetch_neighborhood_info(top_properties, neighborhoods_info)\n",
    "\n",
    "        # create property map\n",
    "        property_map = create_property_map(top_properties)\n",
    "\n",
    "        # change format\n",
    "        fields_desc = fields + ['description', 'resoFacts', 'schools', 'neighborhood', 'neighborhood_description']\n",
    "        property_info = format_properties(top_properties, fields_desc)\n",
    "\n",
    "        # prompt for final output from Gemini\n",
    "        prompt_final = generate_prompt_property(instruction_prompt_property, user_query, property_info, str(fields))\n",
    "\n",
    "        # get final response from Gemini\n",
    "        print(get_chat_response(chat, prompt_final))\n",
    "        display(property_map)\n",
    "\n",
    "        return top_properties\n",
    "\n",
    "    elif response_int == 2:\n",
    "        print('The query is about restaurant. I will answer by using Yelp API Filter')\n",
    "        \n",
    "    elif response_int == 3:\n",
    "        print('The query is about neighborhood. I will answer by using RAG')\n",
    "\n",
    "    else:\n",
    "        print(get_chat_response(chat, user_query))"
   ]
  },
  {
   "cell_type": "markdown",
   "id": "69dfea28-8b34-4c08-8acd-44e999f77b81",
   "metadata": {},
   "source": [
    "## Use case 1\n",
    "### property search - detail info"
   ]
  },
  {
   "cell_type": "code",
   "execution_count": 13,
   "id": "f753d86c-e6c1-4e7c-ae13-e271c7247336",
   "metadata": {
    "tags": []
   },
   "outputs": [
    {
     "name": "stdout",
     "output_type": "stream",
     "text": [
      "## Property Recommendations\n",
      "\n",
      "I'd be happy to help you find a perfect two-bedroom apartment in Chicago! Based on your request, here are three options that might be a good fit:\n",
      "\n",
      "**1. Spacious and Modern Condo in River West:**\n",
      "\n",
      "* **Address:** 859 W Erie St APT 506, Chicago, IL 60642\n",
      "* **Price:** $525,000\n",
      "* **Bedrooms:** 2\n",
      "* **Bathrooms:** 2\n",
      "* **Features:** Open floor plan, modern finishes, natural light, chef's kitchen, walk-in closet, updated bathrooms, in-unit laundry, heated garage parking, elevator building, fitness center, common roof deck, storage unit, great location near River North, Wicker Park, West Loop, and Fulton Market District.\n",
      "* **Link:** https://www.zillow.com/homedetails/859-W-Erie-St-APT-506-Chicago-IL-60642/80847297_zpid/\n",
      "* **Image:** https://photos.zillowstatic.com/fp/aca79a5e058db7b17af4f53c1ba79657-p_e.jpg\n",
      "\n",
      "**2. Prime Downtown Condo with Stunning Views:**\n",
      "\n",
      "* **Address:** 10 E Ontario St APT 4506, Chicago, IL 60611\n",
      "* **Price:** $399,900\n",
      "* **Bedrooms:** 2\n",
      "* **Bathrooms:** 2\n",
      "* **Features:** Corner unit with city and lake views, high-end finishes, custom kitchen, hardwood floors, walk-in shower, custom closets, large balcony, doorman, on-site cleaner, outdoor pool, meeting spaces, spa facilities, gym, strong association reserves, garage parking available.\n",
      "* **Link:** https://www.zillow.com/homedetails/10-E-Ontario-St-APT-4506-Chicago-IL-60611/80811688_zpid/\n",
      "* **Image:** https://photos.zillowstatic.com/fp/f5481b4e058db7b17af4a5e635cb6a55470ff-p_e.jpg\n",
      "\n",
      "**3. Spacious and Well-Maintained Condo in Streeterville:**\n",
      "\n",
      "* **Address:** 200 E Delaware Pl APT 6A, Chicago, IL 60611\n",
      "* **Price:** $489,900\n",
      "* **Bedrooms:** 2\n",
      "* **Bathrooms:** 2\n",
      "* **Features:** Open layout, high-end kitchen, built-ins, large private balcony, city views, updated bathrooms, in-unit laundry, updated appliances, well-managed building, outdoor pool, sundeck, exercise facility, party room, 24-hour door staff, on-site commissary, valet parking available, great location near shops, restaurants, and lakefront.\n",
      "* **Link:** https://www.zillow.com/homedetails/200-E-Delaware-Pl-APT-6A-Chicago-IL-60611/3849120_zpid/\n",
      "* **Image:** https://photos.zillowstatic.com/fp/76614c6711c541560f6fe264550ff1ae-p_e.jpg\n",
      "\n",
      "These are just a few options, and there are many other great two-bedroom apartments available in Chicago. I encourage you to explore these listings and reach out to me if you have any questions or would like to see more options.\n",
      "\n",
      "**Additional Information:**\n",
      "\n",
      "For each property, I have included a link to the full listing on Zillow, as well as an image. You can find additional information about the property, such as the square footage, amenities, and neighborhood, by clicking on the link.\n",
      "\n",
      "I have also included some information about the schools and neighborhood for each property. \n",
      "\n",
      "Please let me know if you have any questions or would like me to help you narrow down your choices.\n",
      "\n"
     ]
    },
    {
     "data": {
      "text/html": [
       "<div style=\"width:100%;\"><div style=\"position:relative;width:100%;height:0;padding-bottom:60%;\"><span style=\"color:#565656\">Make this Notebook Trusted to load map: File -> Trust Notebook</span><iframe srcdoc=\"&lt;!DOCTYPE html&gt;\n",
       "&lt;html&gt;\n",
       "&lt;head&gt;\n",
       "    \n",
       "    &lt;meta http-equiv=&quot;content-type&quot; content=&quot;text/html; charset=UTF-8&quot; /&gt;\n",
       "    \n",
       "        &lt;script&gt;\n",
       "            L_NO_TOUCH = false;\n",
       "            L_DISABLE_3D = false;\n",
       "        &lt;/script&gt;\n",
       "    \n",
       "    &lt;style&gt;html, body {width: 100%;height: 100%;margin: 0;padding: 0;}&lt;/style&gt;\n",
       "    &lt;style&gt;#map {position:absolute;top:0;bottom:0;right:0;left:0;}&lt;/style&gt;\n",
       "    &lt;script src=&quot;https://cdn.jsdelivr.net/npm/leaflet@1.9.3/dist/leaflet.js&quot;&gt;&lt;/script&gt;\n",
       "    &lt;script src=&quot;https://code.jquery.com/jquery-3.7.1.min.js&quot;&gt;&lt;/script&gt;\n",
       "    &lt;script src=&quot;https://cdn.jsdelivr.net/npm/bootstrap@5.2.2/dist/js/bootstrap.bundle.min.js&quot;&gt;&lt;/script&gt;\n",
       "    &lt;script src=&quot;https://cdnjs.cloudflare.com/ajax/libs/Leaflet.awesome-markers/2.0.2/leaflet.awesome-markers.js&quot;&gt;&lt;/script&gt;\n",
       "    &lt;link rel=&quot;stylesheet&quot; href=&quot;https://cdn.jsdelivr.net/npm/leaflet@1.9.3/dist/leaflet.css&quot;/&gt;\n",
       "    &lt;link rel=&quot;stylesheet&quot; href=&quot;https://cdn.jsdelivr.net/npm/bootstrap@5.2.2/dist/css/bootstrap.min.css&quot;/&gt;\n",
       "    &lt;link rel=&quot;stylesheet&quot; href=&quot;https://netdna.bootstrapcdn.com/bootstrap/3.0.0/css/bootstrap.min.css&quot;/&gt;\n",
       "    &lt;link rel=&quot;stylesheet&quot; href=&quot;https://cdn.jsdelivr.net/npm/@fortawesome/fontawesome-free@6.2.0/css/all.min.css&quot;/&gt;\n",
       "    &lt;link rel=&quot;stylesheet&quot; href=&quot;https://cdnjs.cloudflare.com/ajax/libs/Leaflet.awesome-markers/2.0.2/leaflet.awesome-markers.css&quot;/&gt;\n",
       "    &lt;link rel=&quot;stylesheet&quot; href=&quot;https://cdn.jsdelivr.net/gh/python-visualization/folium/folium/templates/leaflet.awesome.rotate.min.css&quot;/&gt;\n",
       "    \n",
       "            &lt;meta name=&quot;viewport&quot; content=&quot;width=device-width,\n",
       "                initial-scale=1.0, maximum-scale=1.0, user-scalable=no&quot; /&gt;\n",
       "            &lt;style&gt;\n",
       "                #map_b29379e6a63fade6ecd3112d276b6ac4 {\n",
       "                    position: relative;\n",
       "                    width: 100.0%;\n",
       "                    height: 100.0%;\n",
       "                    left: 0.0%;\n",
       "                    top: 0.0%;\n",
       "                }\n",
       "                .leaflet-container { font-size: 1rem; }\n",
       "            &lt;/style&gt;\n",
       "        \n",
       "&lt;/head&gt;\n",
       "&lt;body&gt;\n",
       "    \n",
       "    \n",
       "            &lt;div class=&quot;folium-map&quot; id=&quot;map_b29379e6a63fade6ecd3112d276b6ac4&quot; &gt;&lt;/div&gt;\n",
       "        \n",
       "&lt;/body&gt;\n",
       "&lt;script&gt;\n",
       "    \n",
       "    \n",
       "            var map_b29379e6a63fade6ecd3112d276b6ac4 = L.map(\n",
       "                &quot;map_b29379e6a63fade6ecd3112d276b6ac4&quot;,\n",
       "                {\n",
       "                    center: [41.881832, -87.623177],\n",
       "                    crs: L.CRS.EPSG3857,\n",
       "                    zoom: 11,\n",
       "                    zoomControl: true,\n",
       "                    preferCanvas: false,\n",
       "                }\n",
       "            );\n",
       "\n",
       "            \n",
       "\n",
       "        \n",
       "    \n",
       "            var tile_layer_4dccc320657de1dee0cfb5fd2adc414b = L.tileLayer(\n",
       "                &quot;https://tile.openstreetmap.org/{z}/{x}/{y}.png&quot;,\n",
       "                {&quot;attribution&quot;: &quot;\\u0026copy; \\u003ca href=\\&quot;https://www.openstreetmap.org/copyright\\&quot;\\u003eOpenStreetMap\\u003c/a\\u003e contributors&quot;, &quot;detectRetina&quot;: false, &quot;maxNativeZoom&quot;: 19, &quot;maxZoom&quot;: 19, &quot;minZoom&quot;: 0, &quot;noWrap&quot;: false, &quot;opacity&quot;: 1, &quot;subdomains&quot;: &quot;abc&quot;, &quot;tms&quot;: false}\n",
       "            );\n",
       "        \n",
       "    \n",
       "            tile_layer_4dccc320657de1dee0cfb5fd2adc414b.addTo(map_b29379e6a63fade6ecd3112d276b6ac4);\n",
       "        \n",
       "    \n",
       "            var marker_655ffa8c31713a47dc9e433d76897d01 = L.marker(\n",
       "                [41.89322, -87.65033],\n",
       "                {}\n",
       "            ).addTo(map_b29379e6a63fade6ecd3112d276b6ac4);\n",
       "        \n",
       "    \n",
       "            var icon_4f59d2746e562340487aa415e6220c63 = L.AwesomeMarkers.icon(\n",
       "                {&quot;extraClasses&quot;: &quot;fa-rotate-0&quot;, &quot;icon&quot;: &quot;home&quot;, &quot;iconColor&quot;: &quot;white&quot;, &quot;markerColor&quot;: &quot;blue&quot;, &quot;prefix&quot;: &quot;glyphicon&quot;}\n",
       "            );\n",
       "            marker_655ffa8c31713a47dc9e433d76897d01.setIcon(icon_4f59d2746e562340487aa415e6220c63);\n",
       "        \n",
       "    \n",
       "        var popup_cbd31b304e40d27cfb0fee8377f071c0 = L.popup({&quot;maxWidth&quot;: 250});\n",
       "\n",
       "        \n",
       "            \n",
       "                var html_0288e626f4b4afb5d87cc489bdd14390 = $(`&lt;div id=&quot;html_0288e626f4b4afb5d87cc489bdd14390&quot; style=&quot;width: 100.0%; height: 100.0%;&quot;&gt;&lt;a href=&quot;https://www.zillow.com/homedetails/859-W-Erie-St-APT-506-Chicago-IL-60642/80847297_zpid/&quot; target=&quot;_blank&quot;&gt;859 W Erie St APT 506, Chicago, IL 60642&lt;/a&gt;&lt;/div&gt;`)[0];\n",
       "                popup_cbd31b304e40d27cfb0fee8377f071c0.setContent(html_0288e626f4b4afb5d87cc489bdd14390);\n",
       "            \n",
       "        \n",
       "\n",
       "        marker_655ffa8c31713a47dc9e433d76897d01.bindPopup(popup_cbd31b304e40d27cfb0fee8377f071c0)\n",
       "        ;\n",
       "\n",
       "        \n",
       "    \n",
       "    \n",
       "            marker_655ffa8c31713a47dc9e433d76897d01.bindTooltip(\n",
       "                `&lt;div&gt;\n",
       "                     Click for Zillow Listing\n",
       "                 &lt;/div&gt;`,\n",
       "                {&quot;sticky&quot;: true}\n",
       "            );\n",
       "        \n",
       "    \n",
       "            var marker_51a163156451811663e4d313437bcf57 = L.marker(\n",
       "                [41.89358, -87.62742],\n",
       "                {}\n",
       "            ).addTo(map_b29379e6a63fade6ecd3112d276b6ac4);\n",
       "        \n",
       "    \n",
       "            var icon_6f1153bae112905d55c25cb1bf9d2f19 = L.AwesomeMarkers.icon(\n",
       "                {&quot;extraClasses&quot;: &quot;fa-rotate-0&quot;, &quot;icon&quot;: &quot;home&quot;, &quot;iconColor&quot;: &quot;white&quot;, &quot;markerColor&quot;: &quot;blue&quot;, &quot;prefix&quot;: &quot;glyphicon&quot;}\n",
       "            );\n",
       "            marker_51a163156451811663e4d313437bcf57.setIcon(icon_6f1153bae112905d55c25cb1bf9d2f19);\n",
       "        \n",
       "    \n",
       "        var popup_072948b31b385ecec2536edc922a9c23 = L.popup({&quot;maxWidth&quot;: 250});\n",
       "\n",
       "        \n",
       "            \n",
       "                var html_a8ff0541c7578077a24eabda18619430 = $(`&lt;div id=&quot;html_a8ff0541c7578077a24eabda18619430&quot; style=&quot;width: 100.0%; height: 100.0%;&quot;&gt;&lt;a href=&quot;https://www.zillow.com/homedetails/10-E-Ontario-St-APT-4506-Chicago-IL-60611/80811688_zpid/&quot; target=&quot;_blank&quot;&gt;10 E Ontario St APT 4506, Chicago, IL 60611&lt;/a&gt;&lt;/div&gt;`)[0];\n",
       "                popup_072948b31b385ecec2536edc922a9c23.setContent(html_a8ff0541c7578077a24eabda18619430);\n",
       "            \n",
       "        \n",
       "\n",
       "        marker_51a163156451811663e4d313437bcf57.bindPopup(popup_072948b31b385ecec2536edc922a9c23)\n",
       "        ;\n",
       "\n",
       "        \n",
       "    \n",
       "    \n",
       "            marker_51a163156451811663e4d313437bcf57.bindTooltip(\n",
       "                `&lt;div&gt;\n",
       "                     Click for Zillow Listing\n",
       "                 &lt;/div&gt;`,\n",
       "                {&quot;sticky&quot;: true}\n",
       "            );\n",
       "        \n",
       "    \n",
       "            var marker_5780a74d00ff86ffee54b6c1c12475d7 = L.marker(\n",
       "                [41.89951, -87.62132],\n",
       "                {}\n",
       "            ).addTo(map_b29379e6a63fade6ecd3112d276b6ac4);\n",
       "        \n",
       "    \n",
       "            var icon_20e5234b4122fd15343cae5e1b07d572 = L.AwesomeMarkers.icon(\n",
       "                {&quot;extraClasses&quot;: &quot;fa-rotate-0&quot;, &quot;icon&quot;: &quot;home&quot;, &quot;iconColor&quot;: &quot;white&quot;, &quot;markerColor&quot;: &quot;blue&quot;, &quot;prefix&quot;: &quot;glyphicon&quot;}\n",
       "            );\n",
       "            marker_5780a74d00ff86ffee54b6c1c12475d7.setIcon(icon_20e5234b4122fd15343cae5e1b07d572);\n",
       "        \n",
       "    \n",
       "        var popup_9589cb0b2dc24009282b2e32e8f36f53 = L.popup({&quot;maxWidth&quot;: 250});\n",
       "\n",
       "        \n",
       "            \n",
       "                var html_88b5ae822ea46a2c670f698064289343 = $(`&lt;div id=&quot;html_88b5ae822ea46a2c670f698064289343&quot; style=&quot;width: 100.0%; height: 100.0%;&quot;&gt;&lt;a href=&quot;https://www.zillow.com/homedetails/200-E-Delaware-Pl-APT-6A-Chicago-IL-60611/3849120_zpid/&quot; target=&quot;_blank&quot;&gt;200 E Delaware Pl APT 6A, Chicago, IL 60611&lt;/a&gt;&lt;/div&gt;`)[0];\n",
       "                popup_9589cb0b2dc24009282b2e32e8f36f53.setContent(html_88b5ae822ea46a2c670f698064289343);\n",
       "            \n",
       "        \n",
       "\n",
       "        marker_5780a74d00ff86ffee54b6c1c12475d7.bindPopup(popup_9589cb0b2dc24009282b2e32e8f36f53)\n",
       "        ;\n",
       "\n",
       "        \n",
       "    \n",
       "    \n",
       "            marker_5780a74d00ff86ffee54b6c1c12475d7.bindTooltip(\n",
       "                `&lt;div&gt;\n",
       "                     Click for Zillow Listing\n",
       "                 &lt;/div&gt;`,\n",
       "                {&quot;sticky&quot;: true}\n",
       "            );\n",
       "        \n",
       "&lt;/script&gt;\n",
       "&lt;/html&gt;\" style=\"position:absolute;width:100%;height:100%;left:0;top:0;border:none !important;\" allowfullscreen webkitallowfullscreen mozallowfullscreen></iframe></div></div>"
      ],
      "text/plain": [
       "<folium.folium.Map at 0x7f8518073d90>"
      ]
     },
     "metadata": {},
     "output_type": "display_data"
    }
   ],
   "source": [
    "# For initial query, use pp_chatbot, not get_chat_response\n",
    "user_query = \"I am looking for a two-bedroom apartment in Chicago.\"\n",
    "top_properties = pp_chatbot(user_query)"
   ]
  },
  {
   "cell_type": "code",
   "execution_count": 14,
   "id": "8dccf8b0-aaff-4322-be8f-2525947e2f81",
   "metadata": {
    "tags": []
   },
   "outputs": [
    {
     "name": "stdout",
     "output_type": "stream",
     "text": [
      "## First Property Details: Spacious and Modern Condo in River West\n",
      "\n",
      "**Address:** 859 W Erie St APT 506, Chicago, IL 60642\n",
      "\n",
      "**Price:** $525,000\n",
      "\n",
      "**Bedrooms:** 2\n",
      "\n",
      "**Bathrooms:** 2\n",
      "\n",
      "**Features:**\n",
      "\n",
      "* **Open floor plan:** The condo features a spacious open floor plan that provides a sense of openness and allows for easy flow between living spaces.\n",
      "* **Modern finishes:** The condo has been completely renovated with modern finishes, creating a sleek and stylish living environment.\n",
      "* **Natural light:** The condo has large windows that let in plenty of natural light, making the space feel bright and airy.\n",
      "* **Chef's kitchen:** The kitchen is a chef's dream, featuring stainless steel appliances, quartz countertops, light wood tone cabinetry, and a massive peninsula breakfast bar perfect for barstool seating.\n",
      "* **Walk-in closet:** The primary bedroom has a spacious walk-in closet, providing ample storage for your clothes and belongings.\n",
      "* **Updated bathrooms:** Both bathrooms have been recently updated with sleek finishes and modern fixtures.\n",
      "* **In-unit laundry:** The condo has a convenient in-unit washer and dryer, saving you the hassle of going to a laundromat.\n",
      "* **Heated garage parking:** The condo comes with one heated garage parking space, providing secure and convenient parking.\n",
      "* **Elevator building:** The building has an elevator, making it easy to access your unit if you live on a higher floor.\n",
      "* **Fitness center:** The building has a well-equipped fitness center, allowing you to stay active without leaving the building.\n",
      "* **Common roof deck:** The building has a common roof deck, offering stunning city views and a great place to relax or entertain guests. \n",
      "* **Storage unit:** The condo comes with a private storage unit, providing additional space for your belongings.\n",
      "* **Great location:** The condo is located in the heart of River West, a vibrant and trendy neighborhood with easy access to River North, Wicker Park, West Loop, and the Fulton Market District. \n",
      "\n",
      "**Link:** https://www.zillow.com/homedetails/859-W-Erie-St-APT-506-Chicago-IL-60642/80847297_zpid/\n",
      "\n",
      "**Image:** https://photos.zillowstatic.com/fp/aca79a5e058db7b17af4f53c1ba79657-p_e.jpg\n",
      "\n",
      "**Additional Information:**\n",
      "\n",
      "* **Resofacts:** {'hasGarage': True, 'hasPetsAllowed': None, 'heating': ['Natural Gas', 'Forced Air'], 'cooling': ['Central Air'], 'flooring': ['Hardwood'], 'appliances': ['Range', 'Microwave', 'Dishwasher', 'Refrigerator', 'Washer', 'Dryer', 'Disposal', 'Stainless Steel Appliance(s)'], 'laundryFeatures': ['In Unit', 'Laundry Hook-Up in Unit'], 'associationFee': '$527 monthly', 'livingArea': None, 'taxAnnualAmount': 9923, 'parkingFeatures': ['Garage - Attached'], 'stories': None}\n",
      "* **Schools:**\n",
      "    * Ogden Elementary School (Rating: 5, Grades PK-8, Public) - 1.2 miles away\n",
      "    * Wells Community Academy High School (Rating: 1, Grades 9-12, Public) - 1 mile away\n",
      "\n",
      "Please let me know if you have any other questions or would like to see more information about this property.\n"
     ]
    }
   ],
   "source": [
    "# For additional question, use get_chat_response, not pp_chatbot\n",
    "user_query = \"Could you tell me about the first property in detail?\"\n",
    "print(get_chat_response(chat, user_query))"
   ]
  },
  {
   "cell_type": "code",
   "execution_count": 15,
   "id": "5c2acc97-febc-452e-ac8d-768b4c215cd9",
   "metadata": {
    "tags": []
   },
   "outputs": [
    {
     "name": "stdout",
     "output_type": "stream",
     "text": [
      "## River West Neighborhood Details\n",
      "\n",
      "The first property is located in the River West neighborhood of Chicago. River West is a vibrant and trendy neighborhood known for its industrial-chic aesthetic, art galleries, and thriving culinary scene. It has become a popular destination for young professionals, artists, and families alike.\n",
      "\n",
      "**Here are some key highlights of the River West neighborhood:**\n",
      "\n",
      "* **Location:** Situated just west of the Chicago River and north of the West Loop, River West offers easy access to downtown Chicago, public transportation, and major highways.\n",
      "* **Industrial-chic aesthetic:** The neighborhood is characterized by its converted industrial buildings, featuring exposed brick walls, high ceilings, and large windows.\n",
      "* **Art galleries and studios:** River West is home to a thriving art scene, with numerous galleries, studios, and public art installations.\n",
      "* **Culinary scene:** The neighborhood boasts a diverse range of restaurants, bars, and cafes, offering everything from fine dining to casual eateries.\n",
      "* **Parks and green spaces:** River West has several parks and green spaces, including the popular Skinner Park and the Chicago Riverwalk.\n",
      "* **Family-friendly atmosphere:** While the neighborhood is trendy, it also has a strong sense of community and is becoming increasingly family-friendly.\n",
      "* **Walkability:** River West is a very walkable neighborhood, with easy access to nearby amenities and attractions.\n",
      "\n",
      "**Here are some additional details about the neighborhood:**\n",
      "\n",
      "* **Median home price:** $600,000\n",
      "* **Median rent:** $2,500\n",
      "* **Population:** Approximately 12,000\n",
      "* **Average household income:** $100,000\n",
      "* **Schools:**\n",
      "    * Ogden Elementary School (Rating: 5, Grades PK-8, Public)\n",
      "    * Wells Community Academy High School (Rating: 1, Grades 9-12, Public)\n",
      "* **Transportation:**\n",
      "    * Easy access to public transportation, including the CTA Blue Line and several bus routes.\n",
      "    * Close proximity to major highways, including I-90 and I-94.\n",
      "\n",
      "**Overall, River West is a vibrant and exciting neighborhood with a unique character and a lot to offer residents.**\n",
      "\n",
      "**Please let me know if you have any other questions about the River West neighborhood or the first property.**\n"
     ]
    }
   ],
   "source": [
    "user_query = \"Which neighborhood is the first property located in? Tell me more about that neighborhood.\"\n",
    "print(get_chat_response(chat, user_query))"
   ]
  },
  {
   "cell_type": "code",
   "execution_count": 16,
   "id": "77020a83-0f50-49bc-a399-d337e4f6952e",
   "metadata": {
    "tags": []
   },
   "outputs": [
    {
     "name": "stdout",
     "output_type": "stream",
     "text": [
      "##  Schools near the first property (859 W Erie St APT 506, Chicago, IL 60642):\n",
      "\n",
      "The first property is located in the attendance zone for the following public schools:\n",
      "\n",
      "**Elementary School:**\n",
      "\n",
      "* **Ogden Elementary School** (Rating: 5, Grades PK-8, Public) - Distance: 1.2 miles\n",
      "\n",
      "Ogden Elementary School is a highly-rated public elementary school in Chicago. It has a strong academic program and offers a variety of extracurricular activities. The school has a diverse student population and is committed to providing a safe and inclusive learning environment.\n",
      "\n",
      "**High School:**\n",
      "\n",
      "* **Wells Community Academy High School** (Rating: 1, Grades 9-12, Public) - Distance: 1 mile\n",
      "\n",
      "Wells Community Academy High School is a public high school in Chicago. It has a lower rating than Ogden Elementary School. However, the school is undergoing significant changes and improvements. It offers a variety of academic and vocational programs, as well as extracurricular activities.\n",
      "\n",
      "**Private Schools:**\n",
      "\n",
      "In addition to public schools, there are also several private schools located near the first property. These include:\n",
      "\n",
      "* **Chicago Jesuit Academy** (Grades 9-12, Catholic) - Distance: 0.8 miles\n",
      "* **DePaul College Prep** (Grades 9-12, Catholic) - Distance: 1.1 miles\n",
      "* **Latin School of Chicago** (Grades PK-12, Non-denominational) - Distance: 1.3 miles\n",
      "\n",
      "**Please note that school boundaries and ratings can change over time. I recommend that you contact the Chicago Public Schools or the individual schools directly for the most up-to-date information.**\n",
      "\n",
      "**Here are some additional resources that you may find helpful:**\n",
      "\n",
      "* **Chicago Public Schools:** https://cps.edu/\n",
      "* **GreatSchools:** https://www.greatschools.org/illinois/chicago/\n",
      "* **Niche:** https://www.niche.com/k12/search/best-schools/m/chicago-il/\n",
      "\n",
      "**Please let me know if you have any other questions about schools near the first property.**\n",
      "\n",
      "\n"
     ]
    }
   ],
   "source": [
    "user_query = \"What are some good schools nearby the first property?\"\n",
    "print(get_chat_response(chat, user_query))"
   ]
  },
  {
   "cell_type": "code",
   "execution_count": 17,
   "id": "acc995a4-b861-483d-96fc-2e4f3f08b3ee",
   "metadata": {
    "tags": []
   },
   "outputs": [
    {
     "name": "stdout",
     "output_type": "stream",
     "text": [
      "## Buy vs. Rent: First Property (859 W Erie St APT 506, Chicago, IL 60642)\n",
      "\n",
      "I cannot definitively tell you whether you should buy or rent the first property. This is a complex financial decision that depends on several factors, including:\n",
      "\n",
      "**1. Your Financial Situation:**\n",
      "\n",
      "* **Down payment:** Do you have enough money saved for a down payment? \n",
      "* **Monthly expenses:** Can you afford the monthly mortgage payments, property taxes, and other associated expenses?\n",
      "* **Debt-to-income ratio:** Does your debt-to-income ratio allow you to qualify for a mortgage?\n",
      "* **Investment goals:** Are you looking to invest in real estate and build equity, or are you more comfortable with the flexibility of renting?\n",
      "\n",
      "**2. Market Conditions:**\n",
      "\n",
      "* **Property values:** Are property values in the River West neighborhood rising or falling?\n",
      "* **Rental market:** Is it a good time to rent in the area?\n",
      "* **Interest rates:** Are interest rates currently low or high?\n",
      "\n",
      "**3. Your Personal Preferences:**\n",
      "\n",
      "* **Lifestyle:** Do you prefer the stability and potential equity of homeownership, or the flexibility and lower upfront costs of renting?\n",
      "* **Maintenance responsibilities:** Are you comfortable with the responsibility of maintaining a property, or would you prefer to have a landlord handle repairs?\n",
      "* **Long-term plans:** Do you plan to stay in the area for the foreseeable future, or are you more likely to move in the next few years?\n",
      "\n",
      "**Here is a general overview of the pros and cons of buying vs. renting the first property:**\n",
      "\n",
      "**Buying:**\n",
      "\n",
      "**Pros:**\n",
      "\n",
      "* **Equity building:** You will build equity in the property as you pay down your mortgage.\n",
      "* **Potential for appreciation:** The value of the property could increase over time, providing you with a financial return on your investment.\n",
      "* **Tax benefits:** You may be able to deduct mortgage interest and property taxes on your taxes.\n",
      "* **Customization:** You will have the freedom to customize the property to your liking.\n",
      "* **Stability:** You will have a stable place to live without the worry of rent increases or being asked to move out.\n",
      "\n",
      "**Cons:**\n",
      "\n",
      "* **High upfront costs:** You will need a significant down payment, closing costs, and ongoing expenses such as mortgage payments, property taxes, and insurance.\n",
      "* **Maintenance responsibilities:** You will be responsible for maintaining the property, which can be time-consuming and expensive.\n",
      "* **Less flexibility:** You will be tied to the property for a longer period of time.\n",
      "* **Market risk:** The value of the property could decrease, resulting in a financial loss.\n",
      "\n",
      "**Renting:**\n",
      "\n",
      "**Pros:**\n",
      "\n",
      "* **Lower upfront costs:** You will only need to pay a security deposit and the first month's rent.\n",
      "* **No maintenance responsibilities:** Your landlord will be responsible for maintaining the property.\n",
      "* **Flexibility:** You can move more easily if needed.\n",
      "* **No risk of market fluctuations:** You will not be affected by changes in the property value.\n",
      "\n",
      "**Cons:**\n",
      "\n",
      "* **No equity building:** You will not be building equity in the property.\n",
      "* **Rent increases:** Your rent could increase over time.\n",
      "* **Lack of customization:** You will not have the freedom to customize the property to your liking.\n",
      "* **Less stability:** You could be asked to move out if your landlord decides to sell the property or not renew your lease.\n",
      "\n",
      "**Recommendations:**\n",
      "\n",
      "To make the best decision for your situation, I recommend that you carefully consider the factors mentioned above. It would also be helpful to speak with a financial advisor or mortgage lender to discuss your options and get personalized advice.\n",
      "\n",
      "**If you are leaning towards buying the first property, here are some additional things to keep in mind:**\n",
      "\n",
      "* Make sure you get a thorough home inspection to identify any potential problems with the property.\n",
      "* Negotiate the purchase price carefully and shop around for the best mortgage rates.\n",
      "* Be prepared for the ongoing costs of homeownership, such as property taxes, insurance, and maintenance.\n",
      "\n",
      "**If you are leaning towards renting the first property, here are some things to keep in mind:**\n",
      "\n",
      "* Make sure you carefully read the lease agreement and understand all of the terms and conditions.\n",
      "* Ask about the landlord's policy on rent increases and repairs.\n",
      "* Consider getting renter's insurance to protect your belongings.\n",
      "\n",
      "I hope this information helps you make an informed decision about whether to buy or rent the first property.\n",
      "\n",
      "**Please let me know if you have any other questions.**\n"
     ]
    }
   ],
   "source": [
    "user_query = \"I am interested in the first property. Should I buy it or rent it ?\"\n",
    "print(get_chat_response(chat, user_query))"
   ]
  },
  {
   "cell_type": "code",
   "execution_count": 18,
   "id": "8496bf07-2b18-4311-8839-c451ebc6e29e",
   "metadata": {
    "scrolled": true,
    "tags": []
   },
   "outputs": [
    {
     "data": {
      "text/plain": [
       "[{'propertyType': 'CONDO',\n",
       "  'address': '859 W Erie St APT 506, Chicago, IL 60642',\n",
       "  'price': 525000,\n",
       "  'bedrooms': 2,\n",
       "  'bathrooms': 2,\n",
       "  'detailUrl': 'https://www.zillow.com/homedetails/859-W-Erie-St-APT-506-Chicago-IL-60642/80847297_zpid/',\n",
       "  'imgSrc': 'https://photos.zillowstatic.com/fp/aca79a5e058db7b17af4f53c1ba79657-p_e.jpg',\n",
       "  'longitude': -87.65033,\n",
       "  'latitude': 41.89322,\n",
       "  'description': \"Rarely available 2 bed/2 bath completely updated condo in the heart of River West with an open-concept, split floorpan.  This beautifully renovated condo is a breath of fresh air boasting natural light in every room.  The clean finishes make this condo a complete sanctuary for the next buyer. This modern, chef's kitchen features stainless steel appliances, quartz countertops, light wood tone cabinetry and a massive peninsula breakfast bar perfect for barstool seating. The primary suit has a walk-in closet, linen closet and sleek, fully renovated primary bathroom with a dual vanity and deep drawers for additional storage.  The guest bathroom was also updated matching the modern aesthetic of the condo.  This desired, open & split floor plan home features updated wide-plank flooring, lighting throughout, & professionally organized closets. Full size, front loading newer W/D in unit. Heated garage parking included.  This professionally managed, intimate elevator building has secure fab access; 1st floor fitness center, common roof deck with unbeatable city view plusl storage unit included! .3 miles to Grand Blue Line commuter train at Halsted & Grand. Easy access to interstate 90/94. Location can not be beat- blocks to River North, Wicker Park, West Loop and the all new booming Fulton Market District featuring dozens of shops, health and beauty options, chic neighborhood cafes, top restaurants, wine bars, lounges, coffee shops and more!\",\n",
       "  'resoFacts': {'hasGarage': True,\n",
       "   'hasPetsAllowed': None,\n",
       "   'heating': ['Natural Gas', 'Forced Air'],\n",
       "   'cooling': ['Central Air'],\n",
       "   'flooring': ['Hardwood'],\n",
       "   'appliances': ['Range',\n",
       "    'Microwave',\n",
       "    'Dishwasher',\n",
       "    'Refrigerator',\n",
       "    'Washer',\n",
       "    'Dryer',\n",
       "    'Disposal',\n",
       "    'Stainless Steel Appliance(s)'],\n",
       "   'laundryFeatures': ['In Unit', 'Laundry Hook-Up in Unit'],\n",
       "   'associationFee': '$527 monthly',\n",
       "   'livingArea': None,\n",
       "   'taxAnnualAmount': 9923,\n",
       "   'parkingFeatures': ['Garage - Attached'],\n",
       "   'stories': None},\n",
       "  'schools': [{'link': 'https://www.greatschools.org/illinois/chicago/1270-Ogden-Elementary-School/',\n",
       "    'rating': 5,\n",
       "    'totalCount': None,\n",
       "    'distance': 1.2,\n",
       "    'assigned': None,\n",
       "    'name': 'Ogden Elementary School',\n",
       "    'studentsPerTeacher': None,\n",
       "    'isAssigned': None,\n",
       "    'size': None,\n",
       "    'level': 'Primary',\n",
       "    'grades': 'PK-8',\n",
       "    'type': 'Public'},\n",
       "   {'link': 'https://www.greatschools.org/illinois/chicago/1425-Wells-Community-Academy-High-School/',\n",
       "    'rating': 1,\n",
       "    'totalCount': None,\n",
       "    'distance': 1,\n",
       "    'assigned': None,\n",
       "    'name': 'Wells Community Academy High School',\n",
       "    'studentsPerTeacher': None,\n",
       "    'isAssigned': None,\n",
       "    'size': None,\n",
       "    'level': 'High',\n",
       "    'grades': '9-12',\n",
       "    'type': 'Public'}],\n",
       "  'neighborhood': 'West Town',\n",
       "  'neighborhood_description': 'Neighborhood description is not found.'},\n",
       " {'propertyType': 'CONDO',\n",
       "  'address': '10 E Ontario St APT 4506, Chicago, IL 60611',\n",
       "  'price': 399900,\n",
       "  'bedrooms': 2,\n",
       "  'bathrooms': 2,\n",
       "  'detailUrl': 'https://www.zillow.com/homedetails/10-E-Ontario-St-APT-4506-Chicago-IL-60611/80811688_zpid/',\n",
       "  'imgSrc': 'https://photos.zillowstatic.com/fp/f5481b4e6bb37a2a5e635cb6a54470ff-p_e.jpg',\n",
       "  'longitude': -87.62742,\n",
       "  'latitude': 41.89358,\n",
       "  'description': \"Prime downtown living for an unbeatable value!  Ontario Place is a full amenity building in the heart of everything.  Steps to the best restaurants, the river walk, and the lakefront.  This 2 bedroom / 2 bathroom corner unit not only has some of the best views available downtown, but was completely renovated with custom, high-end finishes.  The kitchen features built-in appliances, white shaker cabinets (solid wood), and marble countertops.  Real hardwood flooring is found in most of the condo.  There is a full owners ensuite arrangement with a custom-built walk-in shower.  All closets have custom built organizers, and the expanses of floor-to-ceiling windows have been fitted with custom window treatments.  You don't have to worry about giving up your belongings, as this condo has tons of closet space!  The balcony is very large and offers you cityscape and lake views! Ontario Place features a doorman, onsite cleaner, outdoor pool, meeting spaces, spa facilities, and a comprehensive, recently renovated gym with extensive free-weights, barbells and racks.  The association is strongly funded with upwards of $2.8M in reserves. This offers an amazing value for the money! There is also a garage parking space available for $30,000.\",\n",
       "  'resoFacts': {'hasGarage': True,\n",
       "   'hasPetsAllowed': True,\n",
       "   'heating': ['Natural Gas', 'Forced Air'],\n",
       "   'cooling': ['Central Air'],\n",
       "   'flooring': ['Hardwood'],\n",
       "   'appliances': ['Range',\n",
       "    'Microwave',\n",
       "    'Dishwasher',\n",
       "    'Washer',\n",
       "    'Dryer',\n",
       "    'Stainless Steel Appliance(s)'],\n",
       "   'laundryFeatures': ['Electric Dryer Hookup',\n",
       "    'In Unit',\n",
       "    'Common Area',\n",
       "    'Laundry Hook-Up in Unit'],\n",
       "   'associationFee': '$1,064 monthly',\n",
       "   'livingArea': '1,390 sqft',\n",
       "   'taxAnnualAmount': 7558,\n",
       "   'parkingFeatures': ['Garage - Attached'],\n",
       "   'stories': None},\n",
       "  'schools': [{'link': 'https://www.greatschools.org/illinois/chicago/1270-Ogden-Elementary-School/',\n",
       "    'rating': 5,\n",
       "    'totalCount': None,\n",
       "    'distance': 0.5,\n",
       "    'assigned': None,\n",
       "    'name': 'Ogden Elementary School',\n",
       "    'studentsPerTeacher': None,\n",
       "    'isAssigned': None,\n",
       "    'size': None,\n",
       "    'level': 'Primary',\n",
       "    'grades': 'PK-8',\n",
       "    'type': 'Public'},\n",
       "   {'link': 'https://www.greatschools.org/illinois/chicago/1425-Wells-Community-Academy-High-School/',\n",
       "    'rating': 1,\n",
       "    'totalCount': None,\n",
       "    'distance': 2.1,\n",
       "    'assigned': None,\n",
       "    'name': 'Wells Community Academy High School',\n",
       "    'studentsPerTeacher': None,\n",
       "    'isAssigned': None,\n",
       "    'size': None,\n",
       "    'level': 'High',\n",
       "    'grades': '9-12',\n",
       "    'type': 'Public'}],\n",
       "  'neighborhood': 'River North',\n",
       "  'neighborhood_description': 'Neighborhood description is not found.'},\n",
       " {'propertyType': 'CONDO',\n",
       "  'address': '200 E Delaware Pl APT 6A, Chicago, IL 60611',\n",
       "  'price': 489900,\n",
       "  'bedrooms': 2,\n",
       "  'bathrooms': 2,\n",
       "  'detailUrl': 'https://www.zillow.com/homedetails/200-E-Delaware-Pl-APT-6A-Chicago-IL-60611/3849120_zpid/',\n",
       "  'imgSrc': 'https://photos.zillowstatic.com/fp/76614c6711c541560f6fe264550ff1ae-p_e.jpg',\n",
       "  'longitude': -87.62132,\n",
       "  'latitude': 41.89951,\n",
       "  'description': \"This pristine and spacious 2 bed/2 bath northwest corner gem in the heart of Streeterville has amazing vibes! Fully renovated and lovingly maintained by a beloved Chicago music icon, this beautiful home features a thoughtful open layout, expansive high-end kitchen and incredible modern built-ins throughout. Relax and take in the lovely city scenery from the large private balcony; enjoy plenty of flexible living and dining space, engineered wooden flooring and floor-to-ceiling windows offering multiple exposures. The chef's kitchen features an abundance of gorgeous custom wooden cabinetry, under-mount lighting, high-end Sub-Zero fridge, tons of counter space and an island with a wine/beverage fridge. The primary bedroom suite features incredible updated built-in storage, excellent closet space and a sizable bathroom w/ walk-in shower. Good-sized second bedroom features a built-in office nook. Enjoy the convenience of the updated high-end stacked Bosch washer/dryer in-unit! Assessments include everything but electric: central heat + AC, water, cable, high-speed internet, and extra storage. This premier building is extremely well-managed and features terrific amenities, including a recently updated outdoor pool, expansive sundeck, large exercise facility, common party room, 24-hour door staff and on-site commissary. Valet garage parking always available for an additional monthly cost. Enjoy everything that Streeterville has to offer: walk to an endless amount of shops and restaurants along Mag Mile, stroll to the lakefront, and be right in the middle of at all. Don't miss this one!\",\n",
       "  'resoFacts': {'hasGarage': True,\n",
       "   'hasPetsAllowed': None,\n",
       "   'heating': ['Forced Air'],\n",
       "   'cooling': ['Central Air'],\n",
       "   'flooring': ['Hardwood', 'Some Carpeting', 'Some Wood Floors'],\n",
       "   'appliances': ['Range',\n",
       "    'Microwave',\n",
       "    'Dishwasher',\n",
       "    'High End Refrigerator',\n",
       "    'Washer',\n",
       "    'Dryer',\n",
       "    'Disposal',\n",
       "    'Electric Cooktop',\n",
       "    'Electric Oven'],\n",
       "   'laundryFeatures': ['Electric Dryer Hookup',\n",
       "    'In Unit',\n",
       "    'Laundry Closet',\n",
       "    'Laundry Hook-Up in Unit'],\n",
       "   'associationFee': '$1,591 monthly',\n",
       "   'livingArea': '1,550 sqft',\n",
       "   'taxAnnualAmount': 9259,\n",
       "   'parkingFeatures': ['Garage - Attached'],\n",
       "   'stories': None},\n",
       "  'schools': [{'link': 'https://www.greatschools.org/illinois/chicago/1270-Ogden-Elementary-School/',\n",
       "    'rating': 5,\n",
       "    'totalCount': None,\n",
       "    'distance': 0.4,\n",
       "    'assigned': None,\n",
       "    'name': 'Ogden Elementary School',\n",
       "    'studentsPerTeacher': None,\n",
       "    'isAssigned': None,\n",
       "    'size': None,\n",
       "    'level': 'Primary',\n",
       "    'grades': 'PK-8',\n",
       "    'type': 'Public'},\n",
       "   {'link': 'https://www.greatschools.org/illinois/chicago/1425-Wells-Community-Academy-High-School/',\n",
       "    'rating': 1,\n",
       "    'totalCount': None,\n",
       "    'distance': 2.4,\n",
       "    'assigned': None,\n",
       "    'name': 'Wells Community Academy High School',\n",
       "    'studentsPerTeacher': None,\n",
       "    'isAssigned': None,\n",
       "    'size': None,\n",
       "    'level': 'High',\n",
       "    'grades': '9-12',\n",
       "    'type': 'Public'}],\n",
       "  'neighborhood': 'Streeterville',\n",
       "  'neighborhood_description': 'Neighborhood description is not found.'}]"
      ]
     },
     "execution_count": 18,
     "metadata": {},
     "output_type": "execute_result"
    }
   ],
   "source": [
    "top_properties"
   ]
  },
  {
   "cell_type": "markdown",
   "id": "62e59465-5c62-4936-b8d1-e31a6f1fd4c7",
   "metadata": {},
   "source": [
    "## Use case 2\n",
    "### Initial query: Restaurant info"
   ]
  },
  {
   "cell_type": "code",
   "execution_count": 33,
   "id": "24a03445-7b87-4824-ac34-ea08cf480450",
   "metadata": {
    "tags": []
   },
   "outputs": [
    {
     "name": "stdout",
     "output_type": "stream",
     "text": [
      "The query is about restaurant. I will answer by using Yelp API Filter\n"
     ]
    }
   ],
   "source": [
    "# For initial query, use pp_chatbot, not get_chat_response\n",
    "user_query = \"Could you recommend an Italian restaurant in Chicago?\"\n",
    "pp_chatbot(user_query)"
   ]
  },
  {
   "cell_type": "code",
   "execution_count": null,
   "id": "7d77a8a9-5d5a-4f81-bf26-f75c1381a2d5",
   "metadata": {},
   "outputs": [],
   "source": [
    "# For additional question, use get_chat_response, not pp_chatbot\n",
    "user_query = \"Tell me more about the restaurant?\"\n",
    "print(get_chat_response(chat, user_query))"
   ]
  },
  {
   "cell_type": "markdown",
   "id": "94e13033-67be-4976-a56a-13cc163df691",
   "metadata": {
    "tags": []
   },
   "source": [
    "## Use case 3\n",
    "### Initial query: Neighborhood info"
   ]
  },
  {
   "cell_type": "code",
   "execution_count": 34,
   "id": "711ac0ce-dbb4-48df-bb1e-039a83618707",
   "metadata": {
    "tags": []
   },
   "outputs": [
    {
     "name": "stdout",
     "output_type": "stream",
     "text": [
      "The query is about neighborhood. I will answer by using RAG\n"
     ]
    }
   ],
   "source": [
    "# For initial query, use pp_chatbot, not get_chat_response\n",
    "user_query = \"What is the West Loop neighborhood in Chicago like?\"\n",
    "pp_chatbot(user_query)"
   ]
  },
  {
   "cell_type": "code",
   "execution_count": null,
   "id": "008149c9-76f1-4656-b5c0-a39206072cad",
   "metadata": {},
   "outputs": [],
   "source": [
    "# For additional question, use get_chat_response, not pp_chatbot\n",
    "user_query = \"Tell me more about the neighborhood?\"\n",
    "print(get_chat_response(chat, user_query))"
   ]
  }
 ],
 "metadata": {
  "environment": {
   "kernel": "python3",
   "name": "tf2-cpu.2-11.m119",
   "type": "gcloud",
   "uri": "us-docker.pkg.dev/deeplearning-platform-release/gcr.io/tf2-cpu.2-11:m119"
  },
  "kernelspec": {
   "display_name": "Python 3",
   "language": "python",
   "name": "python3"
  },
  "language_info": {
   "codemirror_mode": {
    "name": "ipython",
    "version": 3
   },
   "file_extension": ".py",
   "mimetype": "text/x-python",
   "name": "python",
   "nbconvert_exporter": "python",
   "pygments_lexer": "ipython3",
   "version": "3.10.14"
  }
 },
 "nbformat": 4,
 "nbformat_minor": 5
}
