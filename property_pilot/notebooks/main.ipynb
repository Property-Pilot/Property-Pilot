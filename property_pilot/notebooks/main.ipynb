{
 "cells": [
  {
   "cell_type": "markdown",
   "id": "48a9178c-6fe5-45a1-9831-fd9f73f92ef2",
   "metadata": {},
   "source": [
    "## GCP"
   ]
  },
  {
   "cell_type": "code",
   "execution_count": null,
   "id": "9710e9f0-a356-4a23-a12f-d8e9dc85eed2",
   "metadata": {
    "tags": []
   },
   "outputs": [],
   "source": [
    "# %pip list | grep google-cloud-aiplatform\n",
    "# %pip list | grep google-api-core\n",
    "# %pip install google-cloud-aiplatform==1.43.0\n",
    "# %pip install google-api-core==2.17.1"
   ]
  },
  {
   "cell_type": "code",
   "execution_count": 1,
   "id": "a770dd00-8cbb-4a86-aad7-733b46c385b4",
   "metadata": {
    "tags": []
   },
   "outputs": [
    {
     "name": "stderr",
     "output_type": "stream",
     "text": [
      "2024-05-14 05:19:14.420459: I tensorflow/core/platform/cpu_feature_guard.cc:193] This TensorFlow binary is optimized with oneAPI Deep Neural Network Library (oneDNN) to use the following CPU instructions in performance-critical operations:  AVX2 FMA\n",
      "To enable them in other operations, rebuild TensorFlow with the appropriate compiler flags.\n",
      "2024-05-14 05:19:15.475877: W tensorflow/compiler/xla/stream_executor/platform/default/dso_loader.cc:64] Could not load dynamic library 'libnvinfer.so.7'; dlerror: libnvinfer.so.7: cannot open shared object file: No such file or directory; LD_LIBRARY_PATH: /usr/local/cuda/lib64:/usr/local/nccl2/lib:/usr/local/cuda/extras/CUPTI/lib64\n",
      "2024-05-14 05:19:15.475986: W tensorflow/compiler/xla/stream_executor/platform/default/dso_loader.cc:64] Could not load dynamic library 'libnvinfer_plugin.so.7'; dlerror: libnvinfer_plugin.so.7: cannot open shared object file: No such file or directory; LD_LIBRARY_PATH: /usr/local/cuda/lib64:/usr/local/nccl2/lib:/usr/local/cuda/extras/CUPTI/lib64\n",
      "2024-05-14 05:19:15.475996: W tensorflow/compiler/tf2tensorrt/utils/py_utils.cc:38] TF-TRT Warning: Cannot dlopen some TensorRT libraries. If you would like to use Nvidia GPU with TensorRT, please make sure the missing libraries mentioned above are installed properly.\n"
     ]
    }
   ],
   "source": [
    "import vertexai\n",
    "from vertexai.preview.generative_models import GenerativeModel, ChatSession, Part\n",
    "import vertexai.preview.generative_models as generative_models\n",
    "\n",
    "import geopandas as gpd\n",
    "from shapely.geometry import Point"
   ]
  },
  {
   "cell_type": "code",
   "execution_count": 2,
   "id": "c84ee517-5e5f-41bc-a950-8b8fc129c157",
   "metadata": {
    "tags": []
   },
   "outputs": [],
   "source": [
    "vertexai.init(project = \"adsp-capstone-property-pilot\", location = \"us-central1\")"
   ]
  },
  {
   "cell_type": "markdown",
   "id": "00e2b94d-e252-4f73-bde1-ed610ffd637e",
   "metadata": {},
   "source": [
    "## Model Setting - Gemini pro 1.0"
   ]
  },
  {
   "cell_type": "code",
   "execution_count": 3,
   "id": "9b946d2c-abe5-4358-b2ab-8e633c5a196f",
   "metadata": {
    "tags": []
   },
   "outputs": [],
   "source": [
    "model = GenerativeModel(\"gemini-1.0-pro\")\n",
    "chat = model.start_chat()\n",
    "\n",
    "def get_chat_response(chat: ChatSession, prompt: str) -> str:\n",
    "    text_response = []\n",
    "    responses = chat.send_message(prompt, stream=True)\n",
    "    for chunk in responses:\n",
    "        text_response.append(chunk.text)\n",
    "    return \"\".join(text_response)"
   ]
  },
  {
   "cell_type": "code",
   "execution_count": 4,
   "id": "930c88de-f6c1-44cc-95dc-95751da3c988",
   "metadata": {
    "tags": []
   },
   "outputs": [
    {
     "name": "stdout",
     "output_type": "stream",
     "text": [
      "Hello! 👋 I'm glad you're here. How can I help you today?\n"
     ]
    }
   ],
   "source": [
    "# Test chat\n",
    "prompt = \"Hello.\"\n",
    "print(get_chat_response(chat, prompt))"
   ]
  },
  {
   "cell_type": "markdown",
   "id": "e05da746-63b8-422c-8b41-92aa5794f4b6",
   "metadata": {},
   "source": [
    "## Settings"
   ]
  },
  {
   "cell_type": "code",
   "execution_count": 5,
   "id": "0f8a53bf-afd7-4664-b790-9f217c127cdb",
   "metadata": {
    "tags": []
   },
   "outputs": [],
   "source": [
    "import requests\n",
    "\n",
    "url = \"https://zillow-com1.p.rapidapi.com/propertyExtendedSearch\"\n",
    "\n",
    "headers = {\n",
    "\t\"X-RapidAPI-Key\": \"20d92ad976msh2cc2986e4b8788dp100dabjsn404bc4a80fe1\",\n",
    "\t\"X-RapidAPI-Host\": \"zillow-com1.p.rapidapi.com\"\n",
    "}"
   ]
  },
  {
   "cell_type": "markdown",
   "id": "decc3b96-08a1-4b1e-951f-26112a0d51c0",
   "metadata": {},
   "source": [
    "## Import functions"
   ]
  },
  {
   "cell_type": "code",
   "execution_count": 6,
   "id": "b708cf99-4d06-4832-83ff-c8e5cb89b02c",
   "metadata": {
    "tags": []
   },
   "outputs": [],
   "source": [
    "import os\n",
    "os.chdir('/home/jupyter/property_pilot/scripts')\n",
    "\n",
    "import generate_api_filter\n",
    "import fetch_property_info\n",
    "import chat_response"
   ]
  },
  {
   "cell_type": "code",
   "execution_count": 7,
   "id": "af3c30d3-54a2-410f-a98c-43efb0cd5f65",
   "metadata": {
    "tags": []
   },
   "outputs": [],
   "source": [
    "%run /home/jupyter/property_pilot/scripts/chat_response.py"
   ]
  },
  {
   "cell_type": "code",
   "execution_count": 8,
   "id": "63433427-02c9-4b9c-ac9a-e4f24d1d174e",
   "metadata": {
    "tags": []
   },
   "outputs": [],
   "source": [
    "%run /home/jupyter/property_pilot/scripts/generate_api_filter.py"
   ]
  },
  {
   "cell_type": "code",
   "execution_count": 9,
   "id": "f90e34c0-01dd-4ac5-af20-fb4dc9611825",
   "metadata": {
    "tags": []
   },
   "outputs": [],
   "source": [
    "%run /home/jupyter/property_pilot/scripts/fetch_property_info.py"
   ]
  },
  {
   "cell_type": "markdown",
   "id": "6595ead2-9b0d-458b-955c-2226cbe82d4b",
   "metadata": {},
   "source": [
    "## Import prompts"
   ]
  },
  {
   "cell_type": "code",
   "execution_count": 10,
   "id": "00fcf226-9b29-4381-880e-4a6192caeb14",
   "metadata": {
    "tags": []
   },
   "outputs": [],
   "source": [
    "os.chdir('/home/jupyter/property_pilot/prompts')\n",
    "\n",
    "# prompt_classifier\n",
    "file_path = 'instruction_classifier.txt'\n",
    "try:\n",
    "    with open(file_path, 'r') as file:\n",
    "        instruction_prompt_classifier = file.read()\n",
    "except FileNotFoundError:\n",
    "    print(\"The file does not exist\")\n",
    "except Exception as e:\n",
    "    print(f\"An error occurred: {e}\") \n",
    "    \n",
    "# prompt_apifilter\n",
    "file_path = 'generate_prompt_apifilter.txt'\n",
    "try:\n",
    "    with open(file_path, 'r') as file:\n",
    "        instruction_prompt_apifilter = file.read()\n",
    "except FileNotFoundError:\n",
    "    print(\"The file does not exist\")\n",
    "except Exception as e:\n",
    "    print(f\"An error occurred: {e}\")\n",
    "    \n",
    "# prompt_property(for final output)\n",
    "file_path = 'generate_prompt_property.txt'\n",
    "try:\n",
    "    with open(file_path, 'r') as file:\n",
    "        instruction_prompt_property = file.read()\n",
    "except FileNotFoundError:\n",
    "    print(\"The file does not exist\")\n",
    "except Exception as e:\n",
    "    print(f\"An error occurred: {e}\")\n"
   ]
  },
  {
   "cell_type": "markdown",
   "id": "8a98d56a-16e9-4440-a3b6-2a7b85e734d8",
   "metadata": {},
   "source": [
    "## Property Plot main function"
   ]
  },
  {
   "cell_type": "code",
   "execution_count": 13,
   "id": "3c824c7e-65e2-470e-9cc9-d2d83326f767",
   "metadata": {
    "tags": []
   },
   "outputs": [],
   "source": [
    "def pp_chatbot(user_query):\n",
    "    \n",
    "    # User's quety classify\n",
    "    prompt_classifier = generate_prompt_classifier(instruction_prompt_classifier, user_query)\n",
    "    response_int = int(get_chat_response(chat, prompt_classifier))\n",
    "    \n",
    "    # if the user is looking for a property     \n",
    "    if response_int == 1:\n",
    "\n",
    "        # get prompt for api filter \n",
    "        prompt_apifilter = generate_prompt_apifilter(instruction_prompt_apifilter, user_query)\n",
    "\n",
    "        # get api filter\n",
    "        apifilter = get_chat_response(chat, prompt_apifilter)\n",
    "        apifilter = extract_json_to_dict(apifilter)\n",
    "\n",
    "        # get listings from zillow\n",
    "        response = requests.get(url, headers = headers, params = apifilter)\n",
    "        \n",
    "        print(response)\n",
    "\n",
    "        # get top 3 listings(sorted by newest)\n",
    "        # Define fields to extract\n",
    "        fields = [\"propertyType\", \"address\", \"price\", \"bedrooms\", \"bathrooms\", \"detailUrl\", \"imgSrc\", \"longitude\", \"latitude\"]\n",
    "        top_properties = extract_properties(response, 3, fields)\n",
    "\n",
    "        # get description of the properties\n",
    "        top_properties = fetch_descriptions(top_properties)\n",
    "\n",
    "        # get resoFacts(detail) of the properties\n",
    "        keys_to_fetch_resoFacts = [\n",
    "            'hasGarage', 'hasPetsAllowed', 'heating', 'cooling', 'flooring', 'appliances',\n",
    "            'laundryFeatures', 'associationFee',\n",
    "            'livingArea', 'taxAnnualAmount', 'parkingFeatures', 'stories'\n",
    "        ]\n",
    "        top_properties = fetch_resoFacts(top_properties, headers, keys_to_fetch_resoFacts)\n",
    "\n",
    "        # get school info of the properties\n",
    "        top_properties = fetch_schools(top_properties, headers)\n",
    "        \n",
    "        neighborhood_boundaries_path = '/home/jupyter/Kshitiz_Working/geo_export_825d7df4-a9cd-4cef-b3d7-2ec1adc30204.shp'\n",
    "        neighborhood_info_path = '/home/jupyter/Kshitiz_Working/neighborhood_info_final.csv'\n",
    "        \n",
    "        neighborhoods = load_neighborhood_boundaries(neighborhood_boundaries_path)\n",
    "        load_neighborhood_info(neighborhood_info_path)\n",
    "        \n",
    "        print(top_properties)\n",
    "        \n",
    "        top_properties = fetch_neighborhood(top_properties, neighborhoods)\n",
    "        top_properties = fetch_neighborhood_info(top_properties, neighborhoods_info)\n",
    "        \n",
    "        # create property map\n",
    "        property_map = create_property_map(top_properties)\n",
    "\n",
    "        # change format\n",
    "        fields_desc = fields + ['description', 'resoFacts', 'schools']\n",
    "        property_info = format_properties(top_properties, fields_desc)\n",
    "\n",
    "        # prompt for final output from Gemini\n",
    "        prompt_final = generate_prompt_property(instruction_prompt_property, user_query, property_info, str(fields))\n",
    "\n",
    "        # get final response from Gemini\n",
    "        print(get_chat_response(chat, prompt_final))\n",
    "        display(property_map)\n",
    "\n",
    "    else:\n",
    "        # print('The user is not looking for a property')\n",
    "        # General reaponse from Gemini for now\n",
    "        print(get_chat_response(chat, user_query))"
   ]
  },
  {
   "cell_type": "markdown",
   "id": "69dfea28-8b34-4c08-8acd-44e999f77b81",
   "metadata": {},
   "source": [
    "## Use case 1\n",
    "### property search - detail info"
   ]
  },
  {
   "cell_type": "code",
   "execution_count": 14,
   "id": "43b37ab5-4b6b-453f-bdc1-702d08a3c85c",
   "metadata": {
    "tags": []
   },
   "outputs": [
    {
     "name": "stdout",
     "output_type": "stream",
     "text": [
      "<Response [403]>\n",
      "An error occurred: 'props'\n",
      "[]\n"
     ]
    },
    {
     "ename": "IndexError",
     "evalue": "list index out of range",
     "output_type": "error",
     "traceback": [
      "\u001b[0;31m---------------------------------------------------------------------------\u001b[0m",
      "\u001b[0;31mIndexError\u001b[0m                                Traceback (most recent call last)",
      "Cell \u001b[0;32mIn[14], line 2\u001b[0m\n\u001b[1;32m      1\u001b[0m user_query \u001b[38;5;241m=\u001b[39m \u001b[38;5;124m\"\u001b[39m\u001b[38;5;124mI am looking for a two-bedroom apartment in Chicago.\u001b[39m\u001b[38;5;124m\"\u001b[39m\n\u001b[0;32m----> 2\u001b[0m \u001b[43mpp_chatbot\u001b[49m\u001b[43m(\u001b[49m\u001b[43muser_query\u001b[49m\u001b[43m)\u001b[49m\n",
      "Cell \u001b[0;32mIn[13], line 49\u001b[0m, in \u001b[0;36mpp_chatbot\u001b[0;34m(user_query)\u001b[0m\n\u001b[1;32m     45\u001b[0m load_neighborhood_info(neighborhood_info_path)\n\u001b[1;32m     47\u001b[0m \u001b[38;5;28mprint\u001b[39m(top_properties)\n\u001b[0;32m---> 49\u001b[0m top_properties \u001b[38;5;241m=\u001b[39m \u001b[43mfetch_neighborhood\u001b[49m\u001b[43m(\u001b[49m\u001b[43mtop_properties\u001b[49m\u001b[43m,\u001b[49m\u001b[43m \u001b[49m\u001b[43mneighborhoods\u001b[49m\u001b[43m)\u001b[49m\n\u001b[1;32m     50\u001b[0m top_properties \u001b[38;5;241m=\u001b[39m fetch_neighborhood_info(top_properties, neighborhoods_info)\n\u001b[1;32m     52\u001b[0m \u001b[38;5;66;03m# create property map\u001b[39;00m\n",
      "File \u001b[0;32m~/property_pilot/scripts/fetch_property_info.py:188\u001b[0m, in \u001b[0;36mfetch_neighborhood\u001b[0;34m(top_properties, neighborhoods)\u001b[0m\n\u001b[1;32m    186\u001b[0m \u001b[38;5;28;01mdef\u001b[39;00m \u001b[38;5;21mfetch_neighborhood\u001b[39m(top_properties, neighborhoods):\n\u001b[1;32m    187\u001b[0m     \u001b[38;5;28;01mfor\u001b[39;00m i \u001b[38;5;129;01min\u001b[39;00m \u001b[38;5;28mrange\u001b[39m(\u001b[38;5;241m0\u001b[39m, \u001b[38;5;241m3\u001b[39m):\n\u001b[0;32m--> 188\u001b[0m         latitude \u001b[38;5;241m=\u001b[39m \u001b[43mtop_properties\u001b[49m\u001b[43m[\u001b[49m\u001b[43mi\u001b[49m\u001b[43m]\u001b[49m[\u001b[38;5;124m'\u001b[39m\u001b[38;5;124mlatitude\u001b[39m\u001b[38;5;124m'\u001b[39m]\n\u001b[1;32m    189\u001b[0m         longitude \u001b[38;5;241m=\u001b[39m top_properties[i][\u001b[38;5;124m'\u001b[39m\u001b[38;5;124mlongitude\u001b[39m\u001b[38;5;124m'\u001b[39m]\n\u001b[1;32m    190\u001b[0m         point \u001b[38;5;241m=\u001b[39m gpd\u001b[38;5;241m.\u001b[39mGeoDataFrame([{\u001b[38;5;124m'\u001b[39m\u001b[38;5;124mgeometry\u001b[39m\u001b[38;5;124m'\u001b[39m: Point(longitude, latitude)}], crs\u001b[38;5;241m=\u001b[39m\u001b[38;5;124m'\u001b[39m\u001b[38;5;124mEPSG:4326\u001b[39m\u001b[38;5;124m'\u001b[39m)\n",
      "\u001b[0;31mIndexError\u001b[0m: list index out of range"
     ]
    }
   ],
   "source": [
    "user_query = \"I am looking for a two-bedroom apartment in Chicago.\"\n",
    "pp_chatbot(user_query)"
   ]
  },
  {
   "cell_type": "code",
   "execution_count": null,
   "id": "3e14c22c-34d5-4e53-ac7b-c4a103b4ccbb",
   "metadata": {
    "tags": []
   },
   "outputs": [],
   "source": [
    "user_query = \"Are these properties close to public transportation facilities?\"\n",
    "pp_chatbot(user_query)"
   ]
  },
  {
   "cell_type": "markdown",
   "id": "62e59465-5c62-4936-b8d1-e31a6f1fd4c7",
   "metadata": {},
   "source": [
    "## Use case 2\n",
    "### Initial query: Neighborhood info"
   ]
  },
  {
   "cell_type": "markdown",
   "id": "1eeb2c68-a95c-401a-9dbc-274bc3fefc93",
   "metadata": {},
   "source": [
    "RAG"
   ]
  },
  {
   "cell_type": "markdown",
   "id": "94e13033-67be-4976-a56a-13cc163df691",
   "metadata": {},
   "source": [
    "## Use case 3\n",
    "### Initial query: Restaurant info"
   ]
  },
  {
   "cell_type": "markdown",
   "id": "96144106-d0ff-41a4-a86f-b301c942fdf2",
   "metadata": {},
   "source": [
    "Yelp API"
   ]
  }
 ],
 "metadata": {
  "environment": {
   "kernel": "python3",
   "name": "tf2-cpu.2-11.m119",
   "type": "gcloud",
   "uri": "us-docker.pkg.dev/deeplearning-platform-release/gcr.io/tf2-cpu.2-11:m119"
  },
  "kernelspec": {
   "display_name": "Python 3",
   "language": "python",
   "name": "python3"
  },
  "language_info": {
   "codemirror_mode": {
    "name": "ipython",
    "version": 3
   },
   "file_extension": ".py",
   "mimetype": "text/x-python",
   "name": "python",
   "nbconvert_exporter": "python",
   "pygments_lexer": "ipython3",
   "version": "3.10.14"
  }
 },
 "nbformat": 4,
 "nbformat_minor": 5
}
